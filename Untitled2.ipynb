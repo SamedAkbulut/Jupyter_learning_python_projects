{
 "cells": [
  {
   "cell_type": "code",
   "execution_count": 1,
   "metadata": {},
   "outputs": [
    {
     "name": "stdout",
     "output_type": "stream",
     "text": [
      "y\n",
      "Good for you\n",
      "Director's ; \n",
      " Name:Alfred Hitchcock \n",
      "Movie:Psycho\n",
      "Release year of the movie :1964\n",
      "Award:Golden Globe-Best Supporting Actress\n",
      "Year of Death:1980\n",
      "Quote:There is no terror in the bang, only the anticipation of it.\n",
      "Do you like this director ? (y or n) :\n",
      "None\n"
     ]
    }
   ],
   "source": [
    "class Yonetmenler:\n",
    "    def __init__(self, Name, Movie, Year, YearOfDeath, Quote, Award):\n",
    "        self.Name = Name\n",
    "        self.Movie = Movie\n",
    "        self.Year = Year\n",
    "        self.YearOfDeath = YearOfDeath\n",
    "        self.Quote = Quote\n",
    "        self.Award = Award \n",
    "        if self.YearOfDeath == \"-\":\n",
    "            self.YearOfDeath=\"Still Alive\"\n",
    "        #YearOfDeath = 'Still Alive'\n",
    "        #Quote = \"Sorry, s/he doesn't have a quote\"\n",
    "        # Award = \"None\" \n",
    "        \n",
    "    def intro(self):\n",
    "        a=\"Director's ; \\n Name:{} \\nMovie:{}\\nRelease year of the movie :{}\\nAward:{}\\nYear of Death:{}\\nQuote:{}\\nDo you like this director ? (y or n) :\\n{}\".format(self.Name, self.Movie,self.Year, self.Award, self.YearOfDeath, self.dQuote(),self.doYouLike())\n",
    "        return a\n",
    "    def dQuote(self):\n",
    "        if self.Quote== \"-\":\n",
    "            return(\"Sorry, s/he doesn't have a quote\")\n",
    "        else:\n",
    "            return(self.Quote)\n",
    "            \n",
    "    def doYouLike(self):\n",
    "        b=str(input())\n",
    "        if b== \"y\":\n",
    "            print(\"Good for you\")\n",
    "        elif b== \"n\":\n",
    "            print(\"Pity for you\")\n",
    "            \n",
    "movie1= Yonetmenler(\"Alfred Hitchcock\", \"Psycho\", 1964, 1980,\"There is no terror in the bang, only the anticipation of it.\", \"Golden Globe-Best Supporting Actress\")\n",
    "                \n",
    "\n",
    "print(movie1.intro())\n",
    "\n"
   ]
  },
  {
   "cell_type": "code",
   "execution_count": null,
   "metadata": {},
   "outputs": [],
   "source": []
  }
 ],
 "metadata": {
  "kernelspec": {
   "display_name": "Python 3",
   "language": "python",
   "name": "python3"
  },
  "language_info": {
   "codemirror_mode": {
    "name": "ipython",
    "version": 3
   },
   "file_extension": ".py",
   "mimetype": "text/x-python",
   "name": "python",
   "nbconvert_exporter": "python",
   "pygments_lexer": "ipython3",
   "version": "3.8.5"
  }
 },
 "nbformat": 4,
 "nbformat_minor": 4
}

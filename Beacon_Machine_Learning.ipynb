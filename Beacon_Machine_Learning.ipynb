{
 "cells": [
  {
   "cell_type": "code",
   "execution_count": 250,
   "metadata": {},
   "outputs": [],
   "source": [
    "import pandas as pd\n",
    "import numpy as np\n",
    "import matplotlib.pyplot as plt\n",
    "import seaborn as sbn"
   ]
  },
  {
   "cell_type": "code",
   "execution_count": 251,
   "metadata": {},
   "outputs": [],
   "source": [
    "dataFrame = pd.read_excel(\"beacon.xlsx\")"
   ]
  },
  {
   "cell_type": "code",
   "execution_count": 252,
   "metadata": {},
   "outputs": [
    {
     "data": {
      "text/html": [
       "<div>\n",
       "<style scoped>\n",
       "    .dataframe tbody tr th:only-of-type {\n",
       "        vertical-align: middle;\n",
       "    }\n",
       "\n",
       "    .dataframe tbody tr th {\n",
       "        vertical-align: top;\n",
       "    }\n",
       "\n",
       "    .dataframe thead th {\n",
       "        text-align: right;\n",
       "    }\n",
       "</style>\n",
       "<table border=\"1\" class=\"dataframe\">\n",
       "  <thead>\n",
       "    <tr style=\"text-align: right;\">\n",
       "      <th></th>\n",
       "      <th>Kat_Numarası</th>\n",
       "      <th>Mağaza_Sayısı</th>\n",
       "      <th>Tuvalet_Sayısı</th>\n",
       "      <th>Dönüş_Sayısı</th>\n",
       "      <th>Kullanılan_Beacon</th>\n",
       "    </tr>\n",
       "  </thead>\n",
       "  <tbody>\n",
       "    <tr>\n",
       "      <th>0</th>\n",
       "      <td>0</td>\n",
       "      <td>26</td>\n",
       "      <td>4</td>\n",
       "      <td>11</td>\n",
       "      <td>54</td>\n",
       "    </tr>\n",
       "    <tr>\n",
       "      <th>1</th>\n",
       "      <td>1</td>\n",
       "      <td>50</td>\n",
       "      <td>4</td>\n",
       "      <td>9</td>\n",
       "      <td>73</td>\n",
       "    </tr>\n",
       "    <tr>\n",
       "      <th>2</th>\n",
       "      <td>2</td>\n",
       "      <td>45</td>\n",
       "      <td>4</td>\n",
       "      <td>8</td>\n",
       "      <td>68</td>\n",
       "    </tr>\n",
       "    <tr>\n",
       "      <th>3</th>\n",
       "      <td>3</td>\n",
       "      <td>25</td>\n",
       "      <td>4</td>\n",
       "      <td>13</td>\n",
       "      <td>52</td>\n",
       "    </tr>\n",
       "    <tr>\n",
       "      <th>4</th>\n",
       "      <td>0</td>\n",
       "      <td>40</td>\n",
       "      <td>2</td>\n",
       "      <td>3</td>\n",
       "      <td>57</td>\n",
       "    </tr>\n",
       "  </tbody>\n",
       "</table>\n",
       "</div>"
      ],
      "text/plain": [
       "   Kat_Numarası  Mağaza_Sayısı  Tuvalet_Sayısı  Dönüş_Sayısı  \\\n",
       "0             0             26               4            11   \n",
       "1             1             50               4             9   \n",
       "2             2             45               4             8   \n",
       "3             3             25               4            13   \n",
       "4             0             40               2             3   \n",
       "\n",
       "   Kullanılan_Beacon  \n",
       "0                 54  \n",
       "1                 73  \n",
       "2                 68  \n",
       "3                 52  \n",
       "4                 57  "
      ]
     },
     "execution_count": 252,
     "metadata": {},
     "output_type": "execute_result"
    }
   ],
   "source": [
    "dataFrame.head()"
   ]
  },
  {
   "cell_type": "code",
   "execution_count": 253,
   "metadata": {},
   "outputs": [
    {
     "data": {
      "text/html": [
       "<div>\n",
       "<style scoped>\n",
       "    .dataframe tbody tr th:only-of-type {\n",
       "        vertical-align: middle;\n",
       "    }\n",
       "\n",
       "    .dataframe tbody tr th {\n",
       "        vertical-align: top;\n",
       "    }\n",
       "\n",
       "    .dataframe thead th {\n",
       "        text-align: right;\n",
       "    }\n",
       "</style>\n",
       "<table border=\"1\" class=\"dataframe\">\n",
       "  <thead>\n",
       "    <tr style=\"text-align: right;\">\n",
       "      <th></th>\n",
       "      <th>Kat_Numarası</th>\n",
       "      <th>Mağaza_Sayısı</th>\n",
       "      <th>Tuvalet_Sayısı</th>\n",
       "      <th>Dönüş_Sayısı</th>\n",
       "      <th>Kullanılan_Beacon</th>\n",
       "    </tr>\n",
       "  </thead>\n",
       "  <tbody>\n",
       "    <tr>\n",
       "      <th>count</th>\n",
       "      <td>43.000000</td>\n",
       "      <td>43.000000</td>\n",
       "      <td>43.000000</td>\n",
       "      <td>43.000000</td>\n",
       "      <td>43.000000</td>\n",
       "    </tr>\n",
       "    <tr>\n",
       "      <th>mean</th>\n",
       "      <td>1.883721</td>\n",
       "      <td>22.255814</td>\n",
       "      <td>3.023256</td>\n",
       "      <td>5.581395</td>\n",
       "      <td>39.255814</td>\n",
       "    </tr>\n",
       "    <tr>\n",
       "      <th>std</th>\n",
       "      <td>1.679134</td>\n",
       "      <td>13.363228</td>\n",
       "      <td>1.405573</td>\n",
       "      <td>2.611627</td>\n",
       "      <td>17.125716</td>\n",
       "    </tr>\n",
       "    <tr>\n",
       "      <th>min</th>\n",
       "      <td>0.000000</td>\n",
       "      <td>9.000000</td>\n",
       "      <td>2.000000</td>\n",
       "      <td>2.000000</td>\n",
       "      <td>22.000000</td>\n",
       "    </tr>\n",
       "    <tr>\n",
       "      <th>25%</th>\n",
       "      <td>1.000000</td>\n",
       "      <td>10.000000</td>\n",
       "      <td>2.000000</td>\n",
       "      <td>4.000000</td>\n",
       "      <td>22.000000</td>\n",
       "    </tr>\n",
       "    <tr>\n",
       "      <th>50%</th>\n",
       "      <td>2.000000</td>\n",
       "      <td>19.000000</td>\n",
       "      <td>2.000000</td>\n",
       "      <td>4.000000</td>\n",
       "      <td>36.000000</td>\n",
       "    </tr>\n",
       "    <tr>\n",
       "      <th>75%</th>\n",
       "      <td>3.000000</td>\n",
       "      <td>29.000000</td>\n",
       "      <td>4.000000</td>\n",
       "      <td>8.000000</td>\n",
       "      <td>52.000000</td>\n",
       "    </tr>\n",
       "    <tr>\n",
       "      <th>max</th>\n",
       "      <td>7.000000</td>\n",
       "      <td>55.000000</td>\n",
       "      <td>6.000000</td>\n",
       "      <td>13.000000</td>\n",
       "      <td>76.000000</td>\n",
       "    </tr>\n",
       "  </tbody>\n",
       "</table>\n",
       "</div>"
      ],
      "text/plain": [
       "       Kat_Numarası  Mağaza_Sayısı  Tuvalet_Sayısı  Dönüş_Sayısı  \\\n",
       "count     43.000000      43.000000       43.000000     43.000000   \n",
       "mean       1.883721      22.255814        3.023256      5.581395   \n",
       "std        1.679134      13.363228        1.405573      2.611627   \n",
       "min        0.000000       9.000000        2.000000      2.000000   \n",
       "25%        1.000000      10.000000        2.000000      4.000000   \n",
       "50%        2.000000      19.000000        2.000000      4.000000   \n",
       "75%        3.000000      29.000000        4.000000      8.000000   \n",
       "max        7.000000      55.000000        6.000000     13.000000   \n",
       "\n",
       "       Kullanılan_Beacon  \n",
       "count          43.000000  \n",
       "mean           39.255814  \n",
       "std            17.125716  \n",
       "min            22.000000  \n",
       "25%            22.000000  \n",
       "50%            36.000000  \n",
       "75%            52.000000  \n",
       "max            76.000000  "
      ]
     },
     "execution_count": 253,
     "metadata": {},
     "output_type": "execute_result"
    }
   ],
   "source": [
    "dataFrame.describe()"
   ]
  },
  {
   "cell_type": "code",
   "execution_count": 254,
   "metadata": {},
   "outputs": [
    {
     "name": "stderr",
     "output_type": "stream",
     "text": [
      "C:\\Users\\bjk_a\\anaconda3\\envs\\Samed\\lib\\site-packages\\seaborn\\distributions.py:2557: FutureWarning: `distplot` is a deprecated function and will be removed in a future version. Please adapt your code to use either `displot` (a figure-level function with similar flexibility) or `histplot` (an axes-level function for histograms).\n",
      "  warnings.warn(msg, FutureWarning)\n"
     ]
    },
    {
     "data": {
      "text/plain": [
       "<AxesSubplot:xlabel='Kullanılan_Beacon', ylabel='Density'>"
      ]
     },
     "execution_count": 254,
     "metadata": {},
     "output_type": "execute_result"
    },
    {
     "data": {
      "image/png": "[encoded data removed]",
      "text/plain": [
       "<Figure size 432x288 with 1 Axes>"
      ]
     },
     "metadata": {
      "needs_background": "light"
     },
     "output_type": "display_data"
    }
   ],
   "source": [
    "sbn.distplot(dataFrame[\"Kullanılan_Beacon\"])"
   ]
  },
  {
   "cell_type": "code",
   "execution_count": 255,
   "metadata": {},
   "outputs": [
    {
     "data": {
      "text/html": [
       "<div>\n",
       "<style scoped>\n",
       "    .dataframe tbody tr th:only-of-type {\n",
       "        vertical-align: middle;\n",
       "    }\n",
       "\n",
       "    .dataframe tbody tr th {\n",
       "        vertical-align: top;\n",
       "    }\n",
       "\n",
       "    .dataframe thead th {\n",
       "        text-align: right;\n",
       "    }\n",
       "</style>\n",
       "<table border=\"1\" class=\"dataframe\">\n",
       "  <thead>\n",
       "    <tr style=\"text-align: right;\">\n",
       "      <th></th>\n",
       "      <th>Kat_Numarası</th>\n",
       "      <th>Mağaza_Sayısı</th>\n",
       "      <th>Tuvalet_Sayısı</th>\n",
       "      <th>Dönüş_Sayısı</th>\n",
       "      <th>Kullanılan_Beacon</th>\n",
       "    </tr>\n",
       "  </thead>\n",
       "  <tbody>\n",
       "    <tr>\n",
       "      <th>Kat_Numarası</th>\n",
       "      <td>1.000000</td>\n",
       "      <td>-0.110058</td>\n",
       "      <td>-0.069444</td>\n",
       "      <td>0.167807</td>\n",
       "      <td>-0.058555</td>\n",
       "    </tr>\n",
       "    <tr>\n",
       "      <th>Mağaza_Sayısı</th>\n",
       "      <td>-0.110058</td>\n",
       "      <td>1.000000</td>\n",
       "      <td>0.444607</td>\n",
       "      <td>0.351077</td>\n",
       "      <td>0.976413</td>\n",
       "    </tr>\n",
       "    <tr>\n",
       "      <th>Tuvalet_Sayısı</th>\n",
       "      <td>-0.069444</td>\n",
       "      <td>0.444607</td>\n",
       "      <td>1.000000</td>\n",
       "      <td>0.236216</td>\n",
       "      <td>0.534860</td>\n",
       "    </tr>\n",
       "    <tr>\n",
       "      <th>Dönüş_Sayısı</th>\n",
       "      <td>0.167807</td>\n",
       "      <td>0.351077</td>\n",
       "      <td>0.236216</td>\n",
       "      <td>1.000000</td>\n",
       "      <td>0.493271</td>\n",
       "    </tr>\n",
       "    <tr>\n",
       "      <th>Kullanılan_Beacon</th>\n",
       "      <td>-0.058555</td>\n",
       "      <td>0.976413</td>\n",
       "      <td>0.534860</td>\n",
       "      <td>0.493271</td>\n",
       "      <td>1.000000</td>\n",
       "    </tr>\n",
       "  </tbody>\n",
       "</table>\n",
       "</div>"
      ],
      "text/plain": [
       "                   Kat_Numarası  Mağaza_Sayısı  Tuvalet_Sayısı  Dönüş_Sayısı  \\\n",
       "Kat_Numarası           1.000000      -0.110058       -0.069444      0.167807   \n",
       "Mağaza_Sayısı         -0.110058       1.000000        0.444607      0.351077   \n",
       "Tuvalet_Sayısı        -0.069444       0.444607        1.000000      0.236216   \n",
       "Dönüş_Sayısı           0.167807       0.351077        0.236216      1.000000   \n",
       "Kullanılan_Beacon     -0.058555       0.976413        0.534860      0.493271   \n",
       "\n",
       "                   Kullanılan_Beacon  \n",
       "Kat_Numarası               -0.058555  \n",
       "Mağaza_Sayısı               0.976413  \n",
       "Tuvalet_Sayısı              0.534860  \n",
       "Dönüş_Sayısı                0.493271  \n",
       "Kullanılan_Beacon           1.000000  "
      ]
     },
     "execution_count": 255,
     "metadata": {},
     "output_type": "execute_result"
    }
   ],
   "source": [
    "dataFrame.corr()"
   ]
  },
  {
   "cell_type": "code",
   "execution_count": 256,
   "metadata": {},
   "outputs": [
    {
     "data": {
      "text/plain": [
       "Kat_Numarası        -0.058555\n",
       "Mağaza_Sayısı        0.976413\n",
       "Tuvalet_Sayısı       0.534860\n",
       "Dönüş_Sayısı         0.493271\n",
       "Kullanılan_Beacon    1.000000\n",
       "Name: Kullanılan_Beacon, dtype: float64"
      ]
     },
     "execution_count": 256,
     "metadata": {},
     "output_type": "execute_result"
    }
   ],
   "source": [
    "dataFrame.corr()[\"Kullanılan_Beacon\"]"
   ]
  },
  {
   "cell_type": "code",
   "execution_count": 257,
   "metadata": {},
   "outputs": [
    {
     "data": {
      "text/plain": [
       "Kat_Numarası        -0.058555\n",
       "Dönüş_Sayısı         0.493271\n",
       "Tuvalet_Sayısı       0.534860\n",
       "Mağaza_Sayısı        0.976413\n",
       "Kullanılan_Beacon    1.000000\n",
       "Name: Kullanılan_Beacon, dtype: float64"
      ]
     },
     "execution_count": 257,
     "metadata": {},
     "output_type": "execute_result"
    }
   ],
   "source": [
    "dataFrame.corr()[\"Kullanılan_Beacon\"].sort_values()"
   ]
  },
  {
   "cell_type": "code",
   "execution_count": 258,
   "metadata": {},
   "outputs": [
    {
     "data": {
      "text/plain": [
       "<AxesSubplot:xlabel='Kullanılan_Beacon', ylabel='Mağaza_Sayısı'>"
      ]
     },
     "execution_count": 258,
     "metadata": {},
     "output_type": "execute_result"
    },
    {
     "data": {
      "image/png": "[encoded data removed]",
      "text/plain": [
       "<Figure size 432x288 with 1 Axes>"
      ]
     },
     "metadata": {
      "needs_background": "light"
     },
     "output_type": "display_data"
    }
   ],
   "source": [
    "sbn.scatterplot(x=\"Kullanılan_Beacon\",y=\"Mağaza_Sayısı\",data=dataFrame)"
   ]
  },
  {
   "cell_type": "code",
   "execution_count": 259,
   "metadata": {},
   "outputs": [
    {
     "data": {
      "text/plain": [
       "0.43"
      ]
     },
     "execution_count": 259,
     "metadata": {},
     "output_type": "execute_result"
    }
   ],
   "source": [
    "len(dataFrame)*0.01"
   ]
  },
  {
   "cell_type": "code",
   "execution_count": 260,
   "metadata": {},
   "outputs": [],
   "source": [
    "y= dataFrame[\"Kullanılan_Beacon\"].values\n",
    "x= dataFrame.drop(\"Kullanılan_Beacon\",axis=1).values"
   ]
  },
  {
   "cell_type": "code",
   "execution_count": 261,
   "metadata": {},
   "outputs": [
    {
     "data": {
      "text/plain": [
       "array([54, 73, 68, 52, 57, 76, 64, 32, 67, 58, 49, 43, 64, 46, 51, 41, 26,\n",
       "       29, 31, 36, 46, 52, 28, 28, 44, 50, 53, 40, 22, 22, 22, 22, 22, 22,\n",
       "       22, 22, 22, 22, 22, 22, 22, 22, 22], dtype=int64)"
      ]
     },
     "execution_count": 261,
     "metadata": {},
     "output_type": "execute_result"
    }
   ],
   "source": [
    "y"
   ]
  },
  {
   "cell_type": "code",
   "execution_count": 262,
   "metadata": {},
   "outputs": [
    {
     "data": {
      "text/plain": [
       "array([[ 0, 26,  4, 11],\n",
       "       [ 1, 50,  4,  9],\n",
       "       [ 2, 45,  4,  8],\n",
       "       [ 3, 25,  4, 13],\n",
       "       [ 0, 40,  2,  3],\n",
       "       [ 1, 55,  2,  8],\n",
       "       [ 2, 47,  2,  5],\n",
       "       [ 0, 12,  6,  4],\n",
       "       [ 1, 43,  6,  8],\n",
       "       [ 2, 36,  6,  6],\n",
       "       [ 3, 29,  6,  4],\n",
       "       [ 4, 25,  6,  2],\n",
       "       [ 0, 41,  4,  5],\n",
       "       [ 1, 28,  4,  7],\n",
       "       [ 2, 34,  4,  2],\n",
       "       [ 3, 19,  4, 10],\n",
       "       [ 0, 10,  2,  7],\n",
       "       [ 1, 16,  2,  4],\n",
       "       [ 2, 17,  2,  2],\n",
       "       [ 3, 22,  2,  3],\n",
       "       [ 4, 25,  2,  8],\n",
       "       [ 5, 29,  2,  9],\n",
       "       [ 6, 12,  2,  6],\n",
       "       [ 7,  9,  2,  8],\n",
       "       [ 0, 24,  4,  4],\n",
       "       [ 1, 28,  4, 10],\n",
       "       [ 2, 34,  4,  6],\n",
       "       [ 3, 21,  4,  8],\n",
       "       [ 0, 10,  2,  4],\n",
       "       [ 1, 15,  2,  4],\n",
       "       [ 2, 10,  2,  4],\n",
       "       [ 0, 10,  2,  4],\n",
       "       [ 1, 10,  2,  4],\n",
       "       [ 2, 10,  2,  4],\n",
       "       [ 0, 10,  2,  4],\n",
       "       [ 1, 10,  2,  4],\n",
       "       [ 2, 10,  2,  4],\n",
       "       [ 3, 10,  2,  4],\n",
       "       [ 0, 10,  2,  4],\n",
       "       [ 1, 10,  2,  4],\n",
       "       [ 2, 10,  2,  4],\n",
       "       [ 3, 10,  2,  4],\n",
       "       [ 4, 10,  2,  4]], dtype=int64)"
      ]
     },
     "execution_count": 262,
     "metadata": {},
     "output_type": "execute_result"
    }
   ],
   "source": [
    "x"
   ]
  },
  {
   "cell_type": "code",
   "execution_count": 263,
   "metadata": {},
   "outputs": [],
   "source": [
    "from sklearn.model_selection import train_test_split"
   ]
  },
  {
   "cell_type": "code",
   "execution_count": 264,
   "metadata": {},
   "outputs": [],
   "source": [
    "x_train, x_test, y_train, y_test = train_test_split(x,y,test_size=0.3,random_state=10)"
   ]
  },
  {
   "cell_type": "code",
   "execution_count": 265,
   "metadata": {},
   "outputs": [
    {
     "data": {
      "text/plain": [
       "30"
      ]
     },
     "execution_count": 265,
     "metadata": {},
     "output_type": "execute_result"
    }
   ],
   "source": [
    "len(x_train)"
   ]
  },
  {
   "cell_type": "code",
   "execution_count": 266,
   "metadata": {},
   "outputs": [
    {
     "data": {
      "text/plain": [
       "13"
      ]
     },
     "execution_count": 266,
     "metadata": {},
     "output_type": "execute_result"
    }
   ],
   "source": [
    "len(x_test)"
   ]
  },
  {
   "cell_type": "code",
   "execution_count": 267,
   "metadata": {},
   "outputs": [],
   "source": [
    "from sklearn.preprocessing import MinMaxScaler"
   ]
  },
  {
   "cell_type": "code",
   "execution_count": 268,
   "metadata": {},
   "outputs": [],
   "source": [
    "scaler= MinMaxScaler()"
   ]
  },
  {
   "cell_type": "code",
   "execution_count": 269,
   "metadata": {},
   "outputs": [],
   "source": [
    "x_train = scaler.fit_transform(x_train)"
   ]
  },
  {
   "cell_type": "code",
   "execution_count": 270,
   "metadata": {},
   "outputs": [],
   "source": [
    "x_test = scaler.transform(x_test)"
   ]
  },
  {
   "cell_type": "code",
   "execution_count": 271,
   "metadata": {},
   "outputs": [],
   "source": [
    "from tensorflow.keras.models import Sequential \n",
    "from tensorflow.keras.layers import Dense"
   ]
  },
  {
   "cell_type": "code",
   "execution_count": 272,
   "metadata": {},
   "outputs": [
    {
     "data": {
      "text/plain": [
       "(30, 4)"
      ]
     },
     "execution_count": 272,
     "metadata": {},
     "output_type": "execute_result"
    }
   ],
   "source": [
    "x_train.shape"
   ]
  },
  {
   "cell_type": "code",
   "execution_count": 278,
   "metadata": {},
   "outputs": [],
   "source": [
    "model = Sequential()\n",
    "\n",
    "model.add(Dense(12,activation=\"relu\"))\n",
    "model.add(Dense(12,activation=\"relu\"))\n",
    "model.add(Dense(12,activation=\"relu\"))\n",
    "model.add(Dense(12,activation=\"relu\"))\n",
    "model.add(Dense(12,activation=\"relu\"))\n",
    "\n",
    "model.add(Dense(1))\n",
    "model.compile(optimizer=\"adam\",loss=\"mse\")"
   ]
  },
  {
   "cell_type": "code",
   "execution_count": 279,
   "metadata": {},
   "outputs": [
    {
     "name": "stdout",
     "output_type": "stream",
     "text": [
      "Epoch 1/2\n",
      "15/15 [==============================] - 0s 7ms/step - loss: 1767.8501 - val_loss: 1951.7455\n",
      "Epoch 2/2\n",
      "15/15 [==============================] - 0s 1ms/step - loss: 1761.4594 - val_loss: 1944.5995\n"
     ]
    },
    {
     "data": {
      "text/plain": [
       "<tensorflow.python.keras.callbacks.History at 0x1bb4f5f3a00>"
      ]
     },
     "execution_count": 279,
     "metadata": {},
     "output_type": "execute_result"
    }
   ],
   "source": [
    "model.fit(x=x_train, y=y_train, validation_data=(x_test,y_test),batch_size=2, epochs=2)"
   ]
  },
  {
   "cell_type": "code",
   "execution_count": 280,
   "metadata": {},
   "outputs": [],
   "source": [
    "kayip_verisi= pd.DataFrame(model.history.history)"
   ]
  },
  {
   "cell_type": "code",
   "execution_count": 281,
   "metadata": {},
   "outputs": [
    {
     "data": {
      "text/html": [
       "<div>\n",
       "<style scoped>\n",
       "    .dataframe tbody tr th:only-of-type {\n",
       "        vertical-align: middle;\n",
       "    }\n",
       "\n",
       "    .dataframe tbody tr th {\n",
       "        vertical-align: top;\n",
       "    }\n",
       "\n",
       "    .dataframe thead th {\n",
       "        text-align: right;\n",
       "    }\n",
       "</style>\n",
       "<table border=\"1\" class=\"dataframe\">\n",
       "  <thead>\n",
       "    <tr style=\"text-align: right;\">\n",
       "      <th></th>\n",
       "      <th>loss</th>\n",
       "      <th>val_loss</th>\n",
       "    </tr>\n",
       "  </thead>\n",
       "  <tbody>\n",
       "    <tr>\n",
       "      <th>0</th>\n",
       "      <td>1767.850098</td>\n",
       "      <td>1951.745483</td>\n",
       "    </tr>\n",
       "    <tr>\n",
       "      <th>1</th>\n",
       "      <td>1761.459351</td>\n",
       "      <td>1944.599487</td>\n",
       "    </tr>\n",
       "  </tbody>\n",
       "</table>\n",
       "</div>"
      ],
      "text/plain": [
       "          loss     val_loss\n",
       "0  1767.850098  1951.745483\n",
       "1  1761.459351  1944.599487"
      ]
     },
     "execution_count": 281,
     "metadata": {},
     "output_type": "execute_result"
    }
   ],
   "source": [
    "kayip_verisi.head()"
   ]
  },
  {
   "cell_type": "code",
   "execution_count": 282,
   "metadata": {},
   "outputs": [
    {
     "data": {
      "text/plain": [
       "<AxesSubplot:>"
      ]
     },
     "execution_count": 282,
     "metadata": {},
     "output_type": "execute_result"
    },
    {
     "data": {
      "image/png": "[encoded data removed]",
      "text/plain": [
       "<Figure size 432x288 with 1 Axes>"
      ]
     },
     "metadata": {
      "needs_background": "light"
     },
     "output_type": "display_data"
    }
   ],
   "source": [
    "kayip_verisi.plot()"
   ]
  },
  {
   "cell_type": "code",
   "execution_count": 283,
   "metadata": {},
   "outputs": [],
   "source": [
    "from sklearn.metrics import mean_squared_error, mean_absolute_error"
   ]
  },
  {
   "cell_type": "code",
   "execution_count": 284,
   "metadata": {},
   "outputs": [
    {
     "name": "stdout",
     "output_type": "stream",
     "text": [
      "WARNING:tensorflow:5 out of the last 12 calls to <function Model.make_predict_function.<locals>.predict_function at 0x000001BB508F74C0> triggered tf.function retracing. Tracing is expensive and the excessive number of tracings could be due to (1) creating @tf.function repeatedly in a loop, (2) passing tensors with different shapes, (3) passing Python objects instead of tensors. For (1), please define your @tf.function outside of the loop. For (2), @tf.function has experimental_relax_shapes=True option that relaxes argument shapes that can avoid unnecessary retracing. For (3), please refer to https://www.tensorflow.org/tutorials/customization/performance#python_or_tensor_args and https://www.tensorflow.org/api_docs/python/tf/function for  more details.\n"
     ]
    }
   ],
   "source": [
    "tahmin_dizisi = model.predict(x_test)"
   ]
  },
  {
   "cell_type": "code",
   "execution_count": 285,
   "metadata": {},
   "outputs": [
    {
     "data": {
      "text/plain": [
       "array([[0.13956866],\n",
       "       [0.17035757],\n",
       "       [0.14384806],\n",
       "       [0.14080238],\n",
       "       [0.12963958],\n",
       "       [0.13963903],\n",
       "       [0.17174444],\n",
       "       [0.14641835],\n",
       "       [0.14782013],\n",
       "       [0.16247761],\n",
       "       [0.15200184],\n",
       "       [0.20985158],\n",
       "       [0.1333704 ]], dtype=float32)"
      ]
     },
     "execution_count": 285,
     "metadata": {},
     "output_type": "execute_result"
    }
   ],
   "source": [
    "tahmin_dizisi"
   ]
  },
  {
   "cell_type": "code",
   "execution_count": 286,
   "metadata": {},
   "outputs": [
    {
     "data": {
      "text/plain": [
       "41.07788156660703"
      ]
     },
     "execution_count": 286,
     "metadata": {},
     "output_type": "execute_result"
    }
   ],
   "source": [
    "mean_absolute_error(y_test,tahmin_dizisi)"
   ]
  },
  {
   "cell_type": "code",
   "execution_count": 287,
   "metadata": {},
   "outputs": [
    {
     "data": {
      "text/html": [
       "<div>\n",
       "<style scoped>\n",
       "    .dataframe tbody tr th:only-of-type {\n",
       "        vertical-align: middle;\n",
       "    }\n",
       "\n",
       "    .dataframe tbody tr th {\n",
       "        vertical-align: top;\n",
       "    }\n",
       "\n",
       "    .dataframe thead th {\n",
       "        text-align: right;\n",
       "    }\n",
       "</style>\n",
       "<table border=\"1\" class=\"dataframe\">\n",
       "  <thead>\n",
       "    <tr style=\"text-align: right;\">\n",
       "      <th></th>\n",
       "      <th>Kat_Numarası</th>\n",
       "      <th>Mağaza_Sayısı</th>\n",
       "      <th>Tuvalet_Sayısı</th>\n",
       "      <th>Dönüş_Sayısı</th>\n",
       "      <th>Kullanılan_Beacon</th>\n",
       "    </tr>\n",
       "  </thead>\n",
       "  <tbody>\n",
       "    <tr>\n",
       "      <th>count</th>\n",
       "      <td>43.000000</td>\n",
       "      <td>43.000000</td>\n",
       "      <td>43.000000</td>\n",
       "      <td>43.000000</td>\n",
       "      <td>43.000000</td>\n",
       "    </tr>\n",
       "    <tr>\n",
       "      <th>mean</th>\n",
       "      <td>1.883721</td>\n",
       "      <td>22.255814</td>\n",
       "      <td>3.023256</td>\n",
       "      <td>5.581395</td>\n",
       "      <td>39.255814</td>\n",
       "    </tr>\n",
       "    <tr>\n",
       "      <th>std</th>\n",
       "      <td>1.679134</td>\n",
       "      <td>13.363228</td>\n",
       "      <td>1.405573</td>\n",
       "      <td>2.611627</td>\n",
       "      <td>17.125716</td>\n",
       "    </tr>\n",
       "    <tr>\n",
       "      <th>min</th>\n",
       "      <td>0.000000</td>\n",
       "      <td>9.000000</td>\n",
       "      <td>2.000000</td>\n",
       "      <td>2.000000</td>\n",
       "      <td>22.000000</td>\n",
       "    </tr>\n",
       "    <tr>\n",
       "      <th>25%</th>\n",
       "      <td>1.000000</td>\n",
       "      <td>10.000000</td>\n",
       "      <td>2.000000</td>\n",
       "      <td>4.000000</td>\n",
       "      <td>22.000000</td>\n",
       "    </tr>\n",
       "    <tr>\n",
       "      <th>50%</th>\n",
       "      <td>2.000000</td>\n",
       "      <td>19.000000</td>\n",
       "      <td>2.000000</td>\n",
       "      <td>4.000000</td>\n",
       "      <td>36.000000</td>\n",
       "    </tr>\n",
       "    <tr>\n",
       "      <th>75%</th>\n",
       "      <td>3.000000</td>\n",
       "      <td>29.000000</td>\n",
       "      <td>4.000000</td>\n",
       "      <td>8.000000</td>\n",
       "      <td>52.000000</td>\n",
       "    </tr>\n",
       "    <tr>\n",
       "      <th>max</th>\n",
       "      <td>7.000000</td>\n",
       "      <td>55.000000</td>\n",
       "      <td>6.000000</td>\n",
       "      <td>13.000000</td>\n",
       "      <td>76.000000</td>\n",
       "    </tr>\n",
       "  </tbody>\n",
       "</table>\n",
       "</div>"
      ],
      "text/plain": [
       "       Kat_Numarası  Mağaza_Sayısı  Tuvalet_Sayısı  Dönüş_Sayısı  \\\n",
       "count     43.000000      43.000000       43.000000     43.000000   \n",
       "mean       1.883721      22.255814        3.023256      5.581395   \n",
       "std        1.679134      13.363228        1.405573      2.611627   \n",
       "min        0.000000       9.000000        2.000000      2.000000   \n",
       "25%        1.000000      10.000000        2.000000      4.000000   \n",
       "50%        2.000000      19.000000        2.000000      4.000000   \n",
       "75%        3.000000      29.000000        4.000000      8.000000   \n",
       "max        7.000000      55.000000        6.000000     13.000000   \n",
       "\n",
       "       Kullanılan_Beacon  \n",
       "count          43.000000  \n",
       "mean           39.255814  \n",
       "std            17.125716  \n",
       "min            22.000000  \n",
       "25%            22.000000  \n",
       "50%            36.000000  \n",
       "75%            52.000000  \n",
       "max            76.000000  "
      ]
     },
     "execution_count": 287,
     "metadata": {},
     "output_type": "execute_result"
    }
   ],
   "source": [
    "dataFrame.describe()"
   ]
  },
  {
   "cell_type": "code",
   "execution_count": 288,
   "metadata": {},
   "outputs": [
    {
     "data": {
      "text/plain": [
       "[<matplotlib.lines.Line2D at 0x1bb50a7ab50>]"
      ]
     },
     "execution_count": 288,
     "metadata": {},
     "output_type": "execute_result"
    },
    {
     "data": {
      "image/png": "[encoded data removed]",
      "text/plain": [
       "<Figure size 432x288 with 1 Axes>"
      ]
     },
     "metadata": {
      "needs_background": "light"
     },
     "output_type": "display_data"
    }
   ],
   "source": [
    "plt.scatter(y_test,tahmin_dizisi)\n",
    "plt.plot(y_test,y_test,\"g-*\")"
   ]
  },
  {
   "cell_type": "code",
   "execution_count": 289,
   "metadata": {},
   "outputs": [
    {
     "data": {
      "text/plain": [
       "Kat_Numarası          2\n",
       "Mağaza_Sayısı        45\n",
       "Tuvalet_Sayısı        4\n",
       "Dönüş_Sayısı          8\n",
       "Kullanılan_Beacon    68\n",
       "Name: 2, dtype: int64"
      ]
     },
     "execution_count": 289,
     "metadata": {},
     "output_type": "execute_result"
    }
   ],
   "source": [
    "dataFrame.iloc[2]"
   ]
  },
  {
   "cell_type": "code",
   "execution_count": 290,
   "metadata": {},
   "outputs": [],
   "source": [
    "deneme=dataFrame.drop(\"Kullanılan_Beacon\",axis=1).iloc[2]"
   ]
  },
  {
   "cell_type": "code",
   "execution_count": 291,
   "metadata": {},
   "outputs": [],
   "source": [
    "deneme=scaler.transform(deneme.values.reshape(-1,4))"
   ]
  },
  {
   "cell_type": "code",
   "execution_count": 292,
   "metadata": {},
   "outputs": [
    {
     "data": {
      "text/plain": [
       "array([[0.17174445]], dtype=float32)"
      ]
     },
     "execution_count": 292,
     "metadata": {},
     "output_type": "execute_result"
    }
   ],
   "source": [
    "model.predict(deneme)"
   ]
  },
  {
   "cell_type": "code",
   "execution_count": null,
   "metadata": {},
   "outputs": [],
   "source": []
  },
  {
   "cell_type": "code",
   "execution_count": null,
   "metadata": {},
   "outputs": [],
   "source": []
  }
 ],
 "metadata": {
  "kernelspec": {
   "display_name": "Python 3",
   "language": "python",
   "name": "python3"
  },
  "language_info": {
   "codemirror_mode": {
    "name": "ipython",
    "version": 3
   },
   "file_extension": ".py",
   "mimetype": "text/x-python",
   "name": "python",
   "nbconvert_exporter": "python",
   "pygments_lexer": "ipython3",
   "version": "3.8.5"
  }
 },
 "nbformat": 4,
 "nbformat_minor": 4
}

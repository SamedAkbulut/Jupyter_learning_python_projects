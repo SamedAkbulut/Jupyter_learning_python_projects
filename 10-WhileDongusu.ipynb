{
 "cells": [
  {
   "cell_type": "code",
   "execution_count": 7,
   "metadata": {},
   "outputs": [
    {
     "name": "stdout",
     "output_type": "stream",
     "text": [
      "0\n",
      "1\n",
      "2\n",
      "3\n",
      "4\n",
      "5\n",
      "6\n",
      "7\n",
      "8\n",
      "9\n"
     ]
    }
   ],
   "source": [
    "x=0\n",
    "while x < 10:  #gerekli koşullar sağlandığı sürece çalışır\n",
    "    print(x)\n",
    "    x=x+1"
   ]
  },
  {
   "cell_type": "code",
   "execution_count": 21,
   "metadata": {},
   "outputs": [],
   "source": [
    "listem = [1,2,3,4,5]"
   ]
  },
  {
   "cell_type": "code",
   "execution_count": 9,
   "metadata": {},
   "outputs": [
    {
     "data": {
      "text/plain": [
       "5"
      ]
     },
     "execution_count": 9,
     "metadata": {},
     "output_type": "execute_result"
    }
   ],
   "source": [
    "listem.pop() #son elemanı siler"
   ]
  },
  {
   "cell_type": "code",
   "execution_count": 10,
   "metadata": {},
   "outputs": [],
   "source": [
    "listem.append(5) #elemanı ekledim"
   ]
  },
  {
   "cell_type": "code",
   "execution_count": 19,
   "metadata": {},
   "outputs": [
    {
     "data": {
      "text/plain": [
       "[1, 2]"
      ]
     },
     "execution_count": 19,
     "metadata": {},
     "output_type": "execute_result"
    }
   ],
   "source": [
    "listem"
   ]
  },
  {
   "cell_type": "code",
   "execution_count": 18,
   "metadata": {},
   "outputs": [
    {
     "data": {
      "text/plain": [
       "False"
      ]
     },
     "execution_count": 18,
     "metadata": {},
     "output_type": "execute_result"
    }
   ],
   "source": [
    "3 in listem"
   ]
  },
  {
   "cell_type": "code",
   "execution_count": 22,
   "metadata": {},
   "outputs": [
    {
     "name": "stdout",
     "output_type": "stream",
     "text": [
      "3 hala listede\n",
      "3 hala listede\n",
      "3 hala listede\n"
     ]
    }
   ],
   "source": [
    "while 3 in listem:\n",
    "    print(\"3 hala listede\")\n",
    "    listem.pop()"
   ]
  },
  {
   "cell_type": "code",
   "execution_count": 23,
   "metadata": {},
   "outputs": [
    {
     "name": "stdout",
     "output_type": "stream",
     "text": [
      "0\n",
      "1\n",
      "2\n",
      "3\n"
     ]
    }
   ],
   "source": [
    "numara= 0\n",
    "while numara<5:\n",
    "    if numara==4:\n",
    "        break\n",
    "    print(numara)\n",
    "    numara=numara+1"
   ]
  },
  {
   "cell_type": "code",
   "execution_count": 28,
   "metadata": {},
   "outputs": [
    {
     "name": "stdout",
     "output_type": "stream",
     "text": [
      "Degiskenin güncel değeri:0\n",
      "Degiskenin güncel değeri:1\n",
      "Degiskenin güncel değeri:2\n",
      "Degiskenin güncel değeri:3\n",
      "Degiskenin güncel değeri:4\n",
      "Degiskenin güncel değeri:5\n",
      "Degiskenin güncel değeri:6\n",
      "Degiskenin güncel değeri:7\n",
      "Degiskenin güncel değeri:8\n",
      "Degiskenin güncel değeri:9\n",
      "Degiskenin güncel değeri:10\n",
      "Degiskenin güncel değeri:11\n",
      "Degiskenin güncel değeri:12\n",
      "Degiskenin güncel değeri:13\n",
      "Degiskenin güncel değeri:14\n"
     ]
    }
   ],
   "source": [
    "degisken = 0      #biri int biri string olsa hata verecekti, ikisini de string yaptık\n",
    "while degisken<15:\n",
    "   # print(\"Degiskenin güncel değeri: \" + str(degisken)) --- BU 1. YOLDUR AMA 2. YOL DAHA ÇOK KULLANILIR\n",
    "    print(f\"Degiskenin güncel değeri:{degisken}\") #f, format anlamına gelir. süslü parantez içine yazılanları kod olarak algılar\n",
    "    degisken = degisken+1"
   ]
  },
  {
   "cell_type": "code",
   "execution_count": null,
   "metadata": {},
   "outputs": [],
   "source": []
  }
 ],
 "metadata": {
  "kernelspec": {
   "display_name": "Python 3",
   "language": "python",
   "name": "python3"
  },
  "language_info": {
   "codemirror_mode": {
    "name": "ipython",
    "version": 3
   },
   "file_extension": ".py",
   "mimetype": "text/x-python",
   "name": "python",
   "nbconvert_exporter": "python",
   "pygments_lexer": "ipython3",
   "version": "3.8.5"
  }
 },
 "nbformat": 4,
 "nbformat_minor": 4
}

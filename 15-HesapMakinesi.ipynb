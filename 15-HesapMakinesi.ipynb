{
 "cells": [
  {
   "cell_type": "code",
   "execution_count": 5,
   "metadata": {},
   "outputs": [
    {
     "name": "stdout",
     "output_type": "stream",
     "text": [
      "İlk sayı:10\n",
      "İkinci sayı:20\n",
      "İşleminizi seçiniz+\n"
     ]
    },
    {
     "data": {
      "text/plain": [
       "'10 + 20 = 1020'"
      ]
     },
     "execution_count": 5,
     "metadata": {},
     "output_type": "execute_result"
    }
   ],
   "source": [
    "def hesapla(a,b,islem): # parantez içindeki isimler önemsiz!!!\n",
    "    if islem ==\"+\":\n",
    "        return(str(a)+ \" + \" + str(b) + \" = \" + str(a+b))\n",
    "    if islem == \"-\":\n",
    "        return(str(a)+ \" - \" + str(b) + \" = \" + str(a-b))\n",
    "    if islem == \"*\":\n",
    "        return(str(a)+ \" * \" + str(b) + \" = \" + str(a*b))\n",
    "    if islem == \"/\":\n",
    "        return(str(a)+ \" / \" + str(b) + \" = \" + str(a/b))\n",
    "        \n",
    "\n",
    "\n",
    "\n",
    "a=input(\"İlk sayı:\")\n",
    "b=input(\"İkinci sayı:\")\n",
    "islem= input(\"İşleminizi seçiniz\")\n",
    "hesapla(a,b,islem)    #çalışmama sebebi a ve b yi string sanması"
   ]
  },
  {
   "cell_type": "code",
   "execution_count": 6,
   "metadata": {},
   "outputs": [
    {
     "name": "stdout",
     "output_type": "stream",
     "text": [
      "İlk sayı:10\n",
      "İkinci sayı:20\n",
      "İşleminizi seçiniz+\n"
     ]
    },
    {
     "data": {
      "text/plain": [
       "'10 + 20 = 30'"
      ]
     },
     "execution_count": 6,
     "metadata": {},
     "output_type": "execute_result"
    }
   ],
   "source": [
    "def hesapla(a,b,islem): # parantez içindeki isimler önemsiz!!!\n",
    "    if islem ==\"+\":\n",
    "        return(str(a)+ \" + \" + str(b) + \" = \" + str(a+b))\n",
    "    if islem == \"-\":\n",
    "        return(str(a)+ \" - \" + str(b) + \" = \" + str(a-b))\n",
    "    if islem == \"*\":\n",
    "        return(str(a)+ \" * \" + str(b) + \" = \" + str(a*b))\n",
    "    if islem == \"/\":\n",
    "        return(str(a)+ \" / \" + str(b) + \" = \" + str(a/b))\n",
    "        \n",
    "\n",
    "\n",
    "\n",
    "a=int(input(\"İlk sayı:\"))\n",
    "b=int(input(\"İkinci sayı:\"))\n",
    "islem= input(\"İşleminizi seçiniz\")\n",
    "hesapla(a,b,islem)"
   ]
  },
  {
   "cell_type": "code",
   "execution_count": 7,
   "metadata": {},
   "outputs": [
    {
     "name": "stdout",
     "output_type": "stream",
     "text": [
      "İlk sayı:samed\n"
     ]
    },
    {
     "ename": "ValueError",
     "evalue": "invalid literal for int() with base 10: 'samed'",
     "output_type": "error",
     "traceback": [
      "\u001b[1;31m---------------------------------------------------------------------------\u001b[0m",
      "\u001b[1;31mValueError\u001b[0m                                Traceback (most recent call last)",
      "\u001b[1;32m<ipython-input-7-00ae8d68437e>\u001b[0m in \u001b[0;36m<module>\u001b[1;34m\u001b[0m\n\u001b[0;32m     12\u001b[0m \u001b[1;33m\u001b[0m\u001b[0m\n\u001b[0;32m     13\u001b[0m \u001b[1;33m\u001b[0m\u001b[0m\n\u001b[1;32m---> 14\u001b[1;33m \u001b[0ma\u001b[0m\u001b[1;33m=\u001b[0m\u001b[0mint\u001b[0m\u001b[1;33m(\u001b[0m\u001b[0minput\u001b[0m\u001b[1;33m(\u001b[0m\u001b[1;34m\"İlk sayı:\"\u001b[0m\u001b[1;33m)\u001b[0m\u001b[1;33m)\u001b[0m\u001b[1;33m\u001b[0m\u001b[1;33m\u001b[0m\u001b[0m\n\u001b[0m\u001b[0;32m     15\u001b[0m \u001b[0mb\u001b[0m\u001b[1;33m=\u001b[0m\u001b[0mint\u001b[0m\u001b[1;33m(\u001b[0m\u001b[0minput\u001b[0m\u001b[1;33m(\u001b[0m\u001b[1;34m\"İkinci sayı:\"\u001b[0m\u001b[1;33m)\u001b[0m\u001b[1;33m)\u001b[0m\u001b[1;33m\u001b[0m\u001b[1;33m\u001b[0m\u001b[0m\n\u001b[0;32m     16\u001b[0m \u001b[0mislem\u001b[0m\u001b[1;33m=\u001b[0m \u001b[0minput\u001b[0m\u001b[1;33m(\u001b[0m\u001b[1;34m\"İşleminizi seçiniz\"\u001b[0m\u001b[1;33m)\u001b[0m\u001b[1;33m\u001b[0m\u001b[1;33m\u001b[0m\u001b[0m\n",
      "\u001b[1;31mValueError\u001b[0m: invalid literal for int() with base 10: 'samed'"
     ]
    }
   ],
   "source": [
    "def hesapla(a,b,islem): # parantez içindeki isimler önemsiz!!!\n",
    "    if islem ==\"+\":\n",
    "        return(str(a)+ \" + \" + str(b) + \" = \" + str(a+b))\n",
    "    if islem == \"-\":\n",
    "        return(str(a)+ \" - \" + str(b) + \" = \" + str(a-b))\n",
    "    if islem == \"*\":\n",
    "        return(str(a)+ \" * \" + str(b) + \" = \" + str(a*b))\n",
    "    if islem == \"/\":\n",
    "        return(str(a)+ \" / \" + str(b) + \" = \" + str(a/b))\n",
    "        \n",
    "\n",
    "\n",
    "\n",
    "a=int(input(\"İlk sayı:\"))\n",
    "b=int(input(\"İkinci sayı:\"))\n",
    "islem= input(\"İşleminizi seçiniz\")\n",
    "hesapla(a,b,islem)  #int e çevrilemeyen bir şey girdik"
   ]
  },
  {
   "cell_type": "code",
   "execution_count": 8,
   "metadata": {},
   "outputs": [
    {
     "name": "stdout",
     "output_type": "stream",
     "text": [
      "İlk sayı:10\n",
      "İkinci sayı:20\n",
      "İşleminizi seçinizsamed\n"
     ]
    }
   ],
   "source": [
    "def hesapla(a,b,islem): # parantez içindeki isimler önemsiz!!!\n",
    "    if islem ==\"+\":\n",
    "        return(str(a)+ \" + \" + str(b) + \" = \" + str(a+b))\n",
    "    if islem == \"-\":\n",
    "        return(str(a)+ \" - \" + str(b) + \" = \" + str(a-b))\n",
    "    if islem == \"*\":\n",
    "        return(str(a)+ \" * \" + str(b) + \" = \" + str(a*b))\n",
    "    if islem == \"/\":\n",
    "        return(str(a)+ \" / \" + str(b) + \" = \" + str(a/b))\n",
    "        \n",
    "\n",
    "\n",
    "\n",
    "a=int(input(\"İlk sayı:\"))\n",
    "b=int(input(\"İkinci sayı:\"))\n",
    "islem= input(\"İşleminizi seçiniz\")\n",
    "hesapla(a,b,islem)  #uygulama bitti"
   ]
  },
  {
   "cell_type": "code",
   "execution_count": 9,
   "metadata": {},
   "outputs": [
    {
     "name": "stdout",
     "output_type": "stream",
     "text": [
      "İlk sayı:20\n",
      "İkinci sayı:30\n",
      "İşleminizi seçiniz*\n"
     ]
    },
    {
     "data": {
      "text/plain": [
       "'20 * 30 = 600'"
      ]
     },
     "execution_count": 9,
     "metadata": {},
     "output_type": "execute_result"
    }
   ],
   "source": [
    "def hesapla(a,b,islem): # parantez içindeki isimler önemsiz!!!\n",
    "    if islem ==\"+\":\n",
    "        return(str(a)+ \" + \" + str(b) + \" = \" + str(a+b))\n",
    "    if islem == \"-\":\n",
    "        return(str(a)+ \" - \" + str(b) + \" = \" + str(a-b))\n",
    "    if islem == \"*\":\n",
    "        return(str(a)+ \" * \" + str(b) + \" = \" + str(a*b))\n",
    "    if islem == \"/\":\n",
    "        return(str(a)+ \" / \" + str(b) + \" = \" + str(a/b))\n",
    "        \n",
    "\n",
    "\n",
    "\n",
    "a=int(input(\"İlk sayı:\"))\n",
    "b=int(input(\"İkinci sayı:\"))\n",
    "islem= input(\"İşleminizi seçiniz\")\n",
    "hesapla(a,b,islem)  #birden fazla işlem yapamıyoruz"
   ]
  },
  {
   "cell_type": "code",
   "execution_count": null,
   "metadata": {},
   "outputs": [
    {
     "name": "stdout",
     "output_type": "stream",
     "text": [
      "İlk sayı:10\n",
      "İkinci sayı:20\n",
      "İşleminizi seçiniz*\n",
      "10 * 20 = 200\n"
     ]
    }
   ],
   "source": [
    "def hesapla(a,b,islem): # parantez içindeki isimler önemsiz!!!\n",
    "    if islem ==\"+\":\n",
    "        return(str(a)+ \" + \" + str(b) + \" = \" + str(a+b))\n",
    "    if islem == \"-\":\n",
    "        return(str(a)+ \" - \" + str(b) + \" = \" + str(a-b))\n",
    "    if islem == \"*\":\n",
    "        return(str(a)+ \" * \" + str(b) + \" = \" + str(a*b))\n",
    "    if islem == \"/\":\n",
    "        return(str(a)+ \" / \" + str(b) + \" = \" + str(a/b))\n",
    "        \n",
    "\n",
    "\n",
    "while True:  #artık işlem devamlı olur, sonuçları yazması için en sona print yazdık\n",
    "    a=int(input(\"İlk sayı:\"))\n",
    "    b=int(input(\"İkinci sayı:\"))\n",
    "    islem= input(\"İşleminizi seçiniz\")\n",
    "    print(hesapla(a,b,islem))"
   ]
  },
  {
   "cell_type": "code",
   "execution_count": null,
   "metadata": {},
   "outputs": [
    {
     "name": "stdout",
     "output_type": "stream",
     "text": [
      "İlk sayı:10\n",
      "İkinci sayı:20\n",
      "İşleminizi seçinizsamed\n",
      "lütfen + - * veya / işlemi yaptırın\n",
      "İlk sayı:10\n",
      "İkinci sayı:20\n",
      "İşleminizi seçiniz+\n",
      "10 + 20 = 30\n"
     ]
    }
   ],
   "source": [
    "def hesapla(a,b,islem): # parantez içindeki isimler önemsiz!!!\n",
    "    if islem not in \"+-*/\":\n",
    "        return(\"lütfen + - * veya / işlemi yaptırın\")\n",
    "    #artık uygulama çökmek yerine uyarı verir\n",
    "    \n",
    "    if islem ==\"+\":\n",
    "        return(str(a)+ \" + \" + str(b) + \" = \" + str(a+b))\n",
    "    if islem == \"-\":\n",
    "        return(str(a)+ \" - \" + str(b) + \" = \" + str(a-b))\n",
    "    if islem == \"*\":\n",
    "        return(str(a)+ \" * \" + str(b) + \" = \" + str(a*b))\n",
    "    if islem == \"/\":\n",
    "        return(str(a)+ \" / \" + str(b) + \" = \" + str(a/b))\n",
    "        \n",
    "\n",
    "\n",
    "while True:  \n",
    "    a=int(input(\"İlk sayı:\"))\n",
    "    b=int(input(\"İkinci sayı:\"))\n",
    "    islem= input(\"İşleminizi seçiniz\")\n",
    "    print(hesapla(a,b,islem))"
   ]
  },
  {
   "cell_type": "code",
   "execution_count": null,
   "metadata": {},
   "outputs": [
    {
     "name": "stdout",
     "output_type": "stream",
     "text": [
      "İlk sayı:10\n",
      "İkinci sayı:20\n",
      "İşleminizi seçiniz+\n",
      "10 + 20 = 30\n",
      "İlk sayı:samed\n",
      "Lütfen sayıları düzgüngiriniz\n",
      "İlk sayı:10\n",
      "İkinci sayı:samed\n",
      "Lütfen sayıları düzgüngiriniz\n",
      "İlk sayı:10\n",
      "İkinci sayı:20\n",
      "İşleminizi seçiniz+\n",
      "10 + 20 = 30\n"
     ]
    }
   ],
   "source": [
    "def hesapla(a,b,islem): # parantez içindeki isimler önemsiz!!!\n",
    "    if islem not in \"+-*/\":\n",
    "        return(\"lütfen + - * veya / işlemi yaptırın\")\n",
    "    \n",
    "    \n",
    "    if islem ==\"+\":\n",
    "        return(str(a)+ \" + \" + str(b) + \" = \" + str(a+b))\n",
    "    if islem == \"-\":\n",
    "        return(str(a)+ \" - \" + str(b) + \" = \" + str(a-b))\n",
    "    if islem == \"*\":\n",
    "        return(str(a)+ \" * \" + str(b) + \" = \" + str(a*b))\n",
    "    if islem == \"/\":\n",
    "        return(str(a)+ \" / \" + str(b) + \" = \" + str(a/b))\n",
    "        \n",
    "\n",
    "\n",
    "while True:  \n",
    "    try:\n",
    "        a=int(input(\"İlk sayı:\"))\n",
    "        b=int(input(\"İkinci sayı:\"))\n",
    "        islem= input(\"İşleminizi seçiniz\")\n",
    "        print(hesapla(a,b,islem))\n",
    "    except:\n",
    "        print(\"Lütfen sayıları düzgüngiriniz\")"
   ]
  },
  {
   "cell_type": "code",
   "execution_count": null,
   "metadata": {},
   "outputs": [],
   "source": []
  }
 ],
 "metadata": {
  "kernelspec": {
   "display_name": "Python 3",
   "language": "python",
   "name": "python3"
  },
  "language_info": {
   "codemirror_mode": {
    "name": "ipython",
    "version": 3
   },
   "file_extension": ".py",
   "mimetype": "text/x-python",
   "name": "python",
   "nbconvert_exporter": "python",
   "pygments_lexer": "ipython3",
   "version": "3.8.5"
  }
 },
 "nbformat": 4,
 "nbformat_minor": 4
}

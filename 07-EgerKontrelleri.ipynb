{
 "cells": [
  {
   "cell_type": "code",
   "execution_count": 1,
   "metadata": {},
   "outputs": [
    {
     "name": "stdout",
     "output_type": "stream",
     "text": [
      "BUM\n"
     ]
    }
   ],
   "source": [
    "if 3>1:\n",
    "    print(\"BUM\")"
   ]
  },
  {
   "cell_type": "code",
   "execution_count": 3,
   "metadata": {},
   "outputs": [
    {
     "name": "stdout",
     "output_type": "stream",
     "text": [
      "değil\n"
     ]
    }
   ],
   "source": [
    "if 3>4:              #boşluklar çok önemli\n",
    "    print(\"büyük\")\n",
    "print(\"değil\")"
   ]
  },
  {
   "cell_type": "code",
   "execution_count": 4,
   "metadata": {},
   "outputs": [],
   "source": [
    "x=5\n",
    "y=4"
   ]
  },
  {
   "cell_type": "code",
   "execution_count": 5,
   "metadata": {},
   "outputs": [
    {
     "name": "stdout",
     "output_type": "stream",
     "text": [
      "İşlem yapılsın\n",
      "5\n"
     ]
    }
   ],
   "source": [
    "if x>y:\n",
    "    print(\"İşlem yapılsın\")\n",
    "    a=3\n",
    "    b=2\n",
    "    print(a+b)"
   ]
  },
  {
   "cell_type": "code",
   "execution_count": 8,
   "metadata": {},
   "outputs": [
    {
     "name": "stdout",
     "output_type": "stream",
     "text": [
      "X büyük\n"
     ]
    }
   ],
   "source": [
    "if x>y:\n",
    "    print(\"X büyük\")\n",
    "elif y>x:\n",
    "    print(\"y büyük\")"
   ]
  },
  {
   "cell_type": "code",
   "execution_count": 9,
   "metadata": {},
   "outputs": [],
   "source": [
    "e=20\n",
    "f=20"
   ]
  },
  {
   "cell_type": "code",
   "execution_count": 10,
   "metadata": {},
   "outputs": [
    {
     "name": "stdout",
     "output_type": "stream",
     "text": [
      "eşitler\n"
     ]
    }
   ],
   "source": [
    "if e>f:\n",
    "    print(\"e büyük\")\n",
    "elif f>e:\n",
    "    print(\"f büyük\")\n",
    "elif f==e:\n",
    "    print(\"eşitler\")"
   ]
  },
  {
   "cell_type": "code",
   "execution_count": 7,
   "metadata": {},
   "outputs": [
    {
     "name": "stdout",
     "output_type": "stream",
     "text": [
      "Süper kahraman seçiniz: Thor\n"
     ]
    }
   ],
   "source": [
    "kahraman = input(\"Süper kahraman seçiniz: \")"
   ]
  },
  {
   "cell_type": "code",
   "execution_count": 9,
   "metadata": {},
   "outputs": [
    {
     "name": "stdout",
     "output_type": "stream",
     "text": [
      "Hoşgeldiniz en güçlü Avenger\n"
     ]
    }
   ],
   "source": [
    "if kahraman == \"Thor\":\n",
    "    print(\"Hoşgeldiniz en güçlü Avenger\")\n",
    "elif kahraman == \"İronman\":\n",
    "    print(\"I love u 3000 times\")\n",
    "elif kahraman == \"Hulk\":\n",
    "    print(\"Dr.Banner\")\n",
    "else:\n",
    "    print(\"Sayın kahraman\")"
   ]
  },
  {
   "cell_type": "code",
   "execution_count": 10,
   "metadata": {},
   "outputs": [],
   "source": [
    "a=10\n",
    "b=20\n",
    "c=30"
   ]
  },
  {
   "cell_type": "code",
   "execution_count": 12,
   "metadata": {},
   "outputs": [
    {
     "name": "stdout",
     "output_type": "stream",
     "text": [
      "a b'den ve b de c'den küçük\n"
     ]
    }
   ],
   "source": [
    "if a<b and b<c:\n",
    "    print(\"a b'den ve b de c'den küçük\")"
   ]
  },
  {
   "cell_type": "code",
   "execution_count": 13,
   "metadata": {},
   "outputs": [],
   "source": [
    "m=40\n",
    "k=4\n",
    "l=1"
   ]
  },
  {
   "cell_type": "code",
   "execution_count": 16,
   "metadata": {},
   "outputs": [
    {
     "name": "stdout",
     "output_type": "stream",
     "text": [
      "En az biri doğru\n"
     ]
    }
   ],
   "source": [
    "if m>k or k>l:\n",
    "    print(\"En az biri doğru\")"
   ]
  },
  {
   "cell_type": "code",
   "execution_count": 26,
   "metadata": {},
   "outputs": [],
   "source": [
    "karakter_canlı= False"
   ]
  },
  {
   "cell_type": "code",
   "execution_count": 28,
   "metadata": {},
   "outputs": [
    {
     "name": "stdout",
     "output_type": "stream",
     "text": [
      "Öldü,game over\n"
     ]
    }
   ],
   "source": [
    "if karakter_canlı == True:\n",
    "    print(\"Karakter hayatta\")\n",
    "else:\n",
    "    print(\"Öldü,game over\")"
   ]
  },
  {
   "cell_type": "code",
   "execution_count": 29,
   "metadata": {},
   "outputs": [
    {
     "name": "stdout",
     "output_type": "stream",
     "text": [
      "Öldü,game over\n"
     ]
    }
   ],
   "source": [
    "if karakter_canlı:    #burada bulleon mantığı ile cevap bulunur\n",
    "    print(\"Karakter yaşıyor\")\n",
    "else:\n",
    "    print(\"Öldü,game over\")"
   ]
  },
  {
   "cell_type": "code",
   "execution_count": 27,
   "metadata": {},
   "outputs": [
    {
     "name": "stdout",
     "output_type": "stream",
     "text": [
      "Game over\n"
     ]
    }
   ],
   "source": [
    "if not karakter_canlı:\n",
    "    print(\"Game over\")"
   ]
  },
  {
   "cell_type": "code",
   "execution_count": 31,
   "metadata": {},
   "outputs": [],
   "source": [
    "benim_string = \"samed akbulut\""
   ]
  },
  {
   "cell_type": "code",
   "execution_count": 32,
   "metadata": {},
   "outputs": [
    {
     "name": "stdout",
     "output_type": "stream",
     "text": [
      "değil\n"
     ]
    }
   ],
   "source": [
    "if benim_string==\"Samed akbulut\":  #sringlerde her şey aynı olmalı (büyük küçük vb.)\n",
    "    print(\"eşit\")\n",
    "else:\n",
    "    print(\"değil\")"
   ]
  },
  {
   "cell_type": "code",
   "execution_count": 33,
   "metadata": {},
   "outputs": [
    {
     "name": "stdout",
     "output_type": "stream",
     "text": [
      "var\n"
     ]
    }
   ],
   "source": [
    "if \"samed\" in benim_string: #in ile aranan şey içinde var mı yok mu bulunur\n",
    "    print(\"var\")\n",
    "else:\n",
    "    print(\"yok\")"
   ]
  },
  {
   "cell_type": "code",
   "execution_count": 34,
   "metadata": {},
   "outputs": [],
   "source": [
    "benim_listem= [10,20,30,40,50]"
   ]
  },
  {
   "cell_type": "code",
   "execution_count": 35,
   "metadata": {},
   "outputs": [
    {
     "name": "stdout",
     "output_type": "stream",
     "text": [
      "var\n"
     ]
    }
   ],
   "source": [
    "if 50 in benim_listem:\n",
    "    print(\"var\")"
   ]
  },
  {
   "cell_type": "code",
   "execution_count": 37,
   "metadata": {},
   "outputs": [
    {
     "name": "stdout",
     "output_type": "stream",
     "text": [
      "yok\n"
     ]
    }
   ],
   "source": [
    "if 60 in benim_listem:\n",
    "    print(\"var\")\n",
    "else:\n",
    "    print(\"yok\")"
   ]
  },
  {
   "cell_type": "code",
   "execution_count": 38,
   "metadata": {},
   "outputs": [],
   "source": [
    "benim_sozluk= {\"muz\": 100, \"elma\" : 200}"
   ]
  },
  {
   "cell_type": "code",
   "execution_count": 39,
   "metadata": {},
   "outputs": [
    {
     "data": {
      "text/plain": [
       "{'muz': 100, 'elma': 200}"
      ]
     },
     "execution_count": 39,
     "metadata": {},
     "output_type": "execute_result"
    }
   ],
   "source": [
    "benim_sozluk"
   ]
  },
  {
   "cell_type": "code",
   "execution_count": 41,
   "metadata": {},
   "outputs": [
    {
     "data": {
      "text/plain": [
       "dict_keys(['muz', 'elma'])"
      ]
     },
     "execution_count": 41,
     "metadata": {},
     "output_type": "execute_result"
    }
   ],
   "source": [
    "benim_sozluk.keys()"
   ]
  },
  {
   "cell_type": "code",
   "execution_count": 43,
   "metadata": {},
   "outputs": [
    {
     "name": "stdout",
     "output_type": "stream",
     "text": [
      "muzumuz var\n"
     ]
    }
   ],
   "source": [
    "if \"muz\" in benim_sozluk.keys():\n",
    "    print(\"muzumuz var\")"
   ]
  },
  {
   "cell_type": "code",
   "execution_count": 45,
   "metadata": {},
   "outputs": [
    {
     "name": "stdout",
     "output_type": "stream",
     "text": [
      "maalesef kalmadı\n"
     ]
    }
   ],
   "source": [
    "if \"kiraz\" in benim_sozluk.keys():\n",
    "    print(\"bu meyve var\")\n",
    "else:\n",
    "    print(\"maalesef kalmadı\")"
   ]
  },
  {
   "cell_type": "code",
   "execution_count": null,
   "metadata": {},
   "outputs": [],
   "source": [
    "if 200 in benim_sozluk.values():\n",
    "    print"
   ]
  }
 ],
 "metadata": {
  "kernelspec": {
   "display_name": "Python 3",
   "language": "python",
   "name": "python3"
  },
  "language_info": {
   "codemirror_mode": {
    "name": "ipython",
    "version": 3
   },
   "file_extension": ".py",
   "mimetype": "text/x-python",
   "name": "python",
   "nbconvert_exporter": "python",
   "pygments_lexer": "ipython3",
   "version": "3.8.5"
  }
 },
 "nbformat": 4,
 "nbformat_minor": 4
}

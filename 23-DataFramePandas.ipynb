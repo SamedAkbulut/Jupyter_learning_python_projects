{
 "cells": [
  {
   "cell_type": "code",
   "execution_count": 7,
   "metadata": {},
   "outputs": [],
   "source": [
    "import numpy as np\n",
    "import pandas as pd"
   ]
  },
  {
   "cell_type": "code",
   "execution_count": 9,
   "metadata": {},
   "outputs": [],
   "source": [
    "data = np.random.randn(4,3) #random bir matrix oluşturalım"
   ]
  },
  {
   "cell_type": "code",
   "execution_count": 10,
   "metadata": {},
   "outputs": [
    {
     "data": {
      "text/plain": [
       "array([[ 1.22138706, -1.9713084 , -0.99187072],\n",
       "       [-1.04016337, -0.35641512,  1.03973314],\n",
       "       [ 0.48579046, -0.17528485,  0.05908458],\n",
       "       [-0.20948219, -0.17302065,  2.0139026 ]])"
      ]
     },
     "execution_count": 10,
     "metadata": {},
     "output_type": "execute_result"
    }
   ],
   "source": [
    "data"
   ]
  },
  {
   "cell_type": "code",
   "execution_count": 17,
   "metadata": {},
   "outputs": [],
   "source": [
    "data_Frame = pd.DataFrame(data) #matriximiz ile dataframe oluşturalım"
   ]
  },
  {
   "cell_type": "code",
   "execution_count": 18,
   "metadata": {},
   "outputs": [
    {
     "data": {
      "text/html": [
       "<div>\n",
       "<style scoped>\n",
       "    .dataframe tbody tr th:only-of-type {\n",
       "        vertical-align: middle;\n",
       "    }\n",
       "\n",
       "    .dataframe tbody tr th {\n",
       "        vertical-align: top;\n",
       "    }\n",
       "\n",
       "    .dataframe thead th {\n",
       "        text-align: right;\n",
       "    }\n",
       "</style>\n",
       "<table border=\"1\" class=\"dataframe\">\n",
       "  <thead>\n",
       "    <tr style=\"text-align: right;\">\n",
       "      <th></th>\n",
       "      <th>0</th>\n",
       "      <th>1</th>\n",
       "      <th>2</th>\n",
       "    </tr>\n",
       "  </thead>\n",
       "  <tbody>\n",
       "    <tr>\n",
       "      <th>0</th>\n",
       "      <td>1.221387</td>\n",
       "      <td>-1.971308</td>\n",
       "      <td>-0.991871</td>\n",
       "    </tr>\n",
       "    <tr>\n",
       "      <th>1</th>\n",
       "      <td>-1.040163</td>\n",
       "      <td>-0.356415</td>\n",
       "      <td>1.039733</td>\n",
       "    </tr>\n",
       "    <tr>\n",
       "      <th>2</th>\n",
       "      <td>0.485790</td>\n",
       "      <td>-0.175285</td>\n",
       "      <td>0.059085</td>\n",
       "    </tr>\n",
       "    <tr>\n",
       "      <th>3</th>\n",
       "      <td>-0.209482</td>\n",
       "      <td>-0.173021</td>\n",
       "      <td>2.013903</td>\n",
       "    </tr>\n",
       "  </tbody>\n",
       "</table>\n",
       "</div>"
      ],
      "text/plain": [
       "          0         1         2\n",
       "0  1.221387 -1.971308 -0.991871\n",
       "1 -1.040163 -0.356415  1.039733\n",
       "2  0.485790 -0.175285  0.059085\n",
       "3 -0.209482 -0.173021  2.013903"
      ]
     },
     "execution_count": 18,
     "metadata": {},
     "output_type": "execute_result"
    }
   ],
   "source": [
    "dataFrame"
   ]
  },
  {
   "cell_type": "code",
   "execution_count": 19,
   "metadata": {},
   "outputs": [
    {
     "data": {
      "text/plain": [
       "0    1.221387\n",
       "1   -1.040163\n",
       "2    0.485790\n",
       "3   -0.209482\n",
       "Name: 0, dtype: float64"
      ]
     },
     "execution_count": 19,
     "metadata": {},
     "output_type": "execute_result"
    }
   ],
   "source": [
    "dataFrame[0] #ilk sütunu getirir (satır değil)"
   ]
  },
  {
   "cell_type": "code",
   "execution_count": 20,
   "metadata": {},
   "outputs": [
    {
     "data": {
      "text/plain": [
       "pandas.core.frame.DataFrame"
      ]
     },
     "execution_count": 20,
     "metadata": {},
     "output_type": "execute_result"
    }
   ],
   "source": [
    "type(dataFrame)"
   ]
  },
  {
   "cell_type": "code",
   "execution_count": 21,
   "metadata": {},
   "outputs": [
    {
     "data": {
      "text/plain": [
       "pandas.core.series.Series"
      ]
     },
     "execution_count": 21,
     "metadata": {},
     "output_type": "execute_result"
    }
   ],
   "source": [
    "type(dataFrame[0])"
   ]
  },
  {
   "cell_type": "code",
   "execution_count": 28,
   "metadata": {},
   "outputs": [],
   "source": [
    "yeni_data_frame= pd.DataFrame(data,index=[\"Ali\",\"Veli\",\"Ceyhun\",\"Deniz\"],columns = [\"Maas\",\"Yas\",\"Calısma Saati\"])\n",
    "#row ve column indexlerinin adını düzenledik"
   ]
  },
  {
   "cell_type": "code",
   "execution_count": 29,
   "metadata": {},
   "outputs": [
    {
     "data": {
      "text/html": [
       "<div>\n",
       "<style scoped>\n",
       "    .dataframe tbody tr th:only-of-type {\n",
       "        vertical-align: middle;\n",
       "    }\n",
       "\n",
       "    .dataframe tbody tr th {\n",
       "        vertical-align: top;\n",
       "    }\n",
       "\n",
       "    .dataframe thead th {\n",
       "        text-align: right;\n",
       "    }\n",
       "</style>\n",
       "<table border=\"1\" class=\"dataframe\">\n",
       "  <thead>\n",
       "    <tr style=\"text-align: right;\">\n",
       "      <th></th>\n",
       "      <th>Maas</th>\n",
       "      <th>Yas</th>\n",
       "      <th>Calısma Saati</th>\n",
       "    </tr>\n",
       "  </thead>\n",
       "  <tbody>\n",
       "    <tr>\n",
       "      <th>Ali</th>\n",
       "      <td>1.221387</td>\n",
       "      <td>-1.971308</td>\n",
       "      <td>-0.991871</td>\n",
       "    </tr>\n",
       "    <tr>\n",
       "      <th>Veli</th>\n",
       "      <td>-1.040163</td>\n",
       "      <td>-0.356415</td>\n",
       "      <td>1.039733</td>\n",
       "    </tr>\n",
       "    <tr>\n",
       "      <th>Ceyhun</th>\n",
       "      <td>0.485790</td>\n",
       "      <td>-0.175285</td>\n",
       "      <td>0.059085</td>\n",
       "    </tr>\n",
       "    <tr>\n",
       "      <th>Deniz</th>\n",
       "      <td>-0.209482</td>\n",
       "      <td>-0.173021</td>\n",
       "      <td>2.013903</td>\n",
       "    </tr>\n",
       "  </tbody>\n",
       "</table>\n",
       "</div>"
      ],
      "text/plain": [
       "            Maas       Yas  Calısma Saati\n",
       "Ali     1.221387 -1.971308      -0.991871\n",
       "Veli   -1.040163 -0.356415       1.039733\n",
       "Ceyhun  0.485790 -0.175285       0.059085\n",
       "Deniz  -0.209482 -0.173021       2.013903"
      ]
     },
     "execution_count": 29,
     "metadata": {},
     "output_type": "execute_result"
    }
   ],
   "source": [
    "yeni_data_frame"
   ]
  },
  {
   "cell_type": "code",
   "execution_count": 30,
   "metadata": {},
   "outputs": [
    {
     "data": {
      "text/plain": [
       "Ali      -1.971308\n",
       "Veli     -0.356415\n",
       "Ceyhun   -0.175285\n",
       "Deniz    -0.173021\n",
       "Name: Yas, dtype: float64"
      ]
     },
     "execution_count": 30,
     "metadata": {},
     "output_type": "execute_result"
    }
   ],
   "source": [
    "yeni_data_frame[\"Yas\"]"
   ]
  },
  {
   "cell_type": "code",
   "execution_count": 31,
   "metadata": {},
   "outputs": [
    {
     "data": {
      "text/plain": [
       "Ali       1.221387\n",
       "Veli     -1.040163\n",
       "Ceyhun    0.485790\n",
       "Deniz    -0.209482\n",
       "Name: Maas, dtype: float64"
      ]
     },
     "execution_count": 31,
     "metadata": {},
     "output_type": "execute_result"
    }
   ],
   "source": [
    "yeni_data_frame[\"Maas\"]"
   ]
  },
  {
   "cell_type": "code",
   "execution_count": 32,
   "metadata": {},
   "outputs": [
    {
     "data": {
      "text/html": [
       "<div>\n",
       "<style scoped>\n",
       "    .dataframe tbody tr th:only-of-type {\n",
       "        vertical-align: middle;\n",
       "    }\n",
       "\n",
       "    .dataframe tbody tr th {\n",
       "        vertical-align: top;\n",
       "    }\n",
       "\n",
       "    .dataframe thead th {\n",
       "        text-align: right;\n",
       "    }\n",
       "</style>\n",
       "<table border=\"1\" class=\"dataframe\">\n",
       "  <thead>\n",
       "    <tr style=\"text-align: right;\">\n",
       "      <th></th>\n",
       "      <th>Maas</th>\n",
       "      <th>Calısma Saati</th>\n",
       "    </tr>\n",
       "  </thead>\n",
       "  <tbody>\n",
       "    <tr>\n",
       "      <th>Ali</th>\n",
       "      <td>1.221387</td>\n",
       "      <td>-0.991871</td>\n",
       "    </tr>\n",
       "    <tr>\n",
       "      <th>Veli</th>\n",
       "      <td>-1.040163</td>\n",
       "      <td>1.039733</td>\n",
       "    </tr>\n",
       "    <tr>\n",
       "      <th>Ceyhun</th>\n",
       "      <td>0.485790</td>\n",
       "      <td>0.059085</td>\n",
       "    </tr>\n",
       "    <tr>\n",
       "      <th>Deniz</th>\n",
       "      <td>-0.209482</td>\n",
       "      <td>2.013903</td>\n",
       "    </tr>\n",
       "  </tbody>\n",
       "</table>\n",
       "</div>"
      ],
      "text/plain": [
       "            Maas  Calısma Saati\n",
       "Ali     1.221387      -0.991871\n",
       "Veli   -1.040163       1.039733\n",
       "Ceyhun  0.485790       0.059085\n",
       "Deniz  -0.209482       2.013903"
      ]
     },
     "execution_count": 32,
     "metadata": {},
     "output_type": "execute_result"
    }
   ],
   "source": [
    "yeni_data_frame[[\"Maas\",\"Calısma Saati\"]] #istediğim sütunları gösterir"
   ]
  },
  {
   "cell_type": "code",
   "execution_count": 33,
   "metadata": {},
   "outputs": [
    {
     "data": {
      "text/plain": [
       "Maas             1.221387\n",
       "Yas             -1.971308\n",
       "Calısma Saati   -0.991871\n",
       "Name: Ali, dtype: float64"
      ]
     },
     "execution_count": 33,
     "metadata": {},
     "output_type": "execute_result"
    }
   ],
   "source": [
    "yeni_data_frame.loc[\"Ali\"] #istenen satırın değerlerini getirir"
   ]
  },
  {
   "cell_type": "code",
   "execution_count": 34,
   "metadata": {},
   "outputs": [
    {
     "data": {
      "text/plain": [
       "Maas             1.221387\n",
       "Yas             -1.971308\n",
       "Calısma Saati   -0.991871\n",
       "Name: Ali, dtype: float64"
      ]
     },
     "execution_count": 34,
     "metadata": {},
     "output_type": "execute_result"
    }
   ],
   "source": [
    "yeni_data_frame.iloc[0] #index bazlı olarak istenen satırı getirir"
   ]
  },
  {
   "cell_type": "code",
   "execution_count": 35,
   "metadata": {},
   "outputs": [
    {
     "data": {
      "text/html": [
       "<div>\n",
       "<style scoped>\n",
       "    .dataframe tbody tr th:only-of-type {\n",
       "        vertical-align: middle;\n",
       "    }\n",
       "\n",
       "    .dataframe tbody tr th {\n",
       "        vertical-align: top;\n",
       "    }\n",
       "\n",
       "    .dataframe thead th {\n",
       "        text-align: right;\n",
       "    }\n",
       "</style>\n",
       "<table border=\"1\" class=\"dataframe\">\n",
       "  <thead>\n",
       "    <tr style=\"text-align: right;\">\n",
       "      <th></th>\n",
       "      <th>Maas</th>\n",
       "      <th>Yas</th>\n",
       "      <th>Calısma Saati</th>\n",
       "    </tr>\n",
       "  </thead>\n",
       "  <tbody>\n",
       "    <tr>\n",
       "      <th>Ali</th>\n",
       "      <td>1.221387</td>\n",
       "      <td>-1.971308</td>\n",
       "      <td>-0.991871</td>\n",
       "    </tr>\n",
       "    <tr>\n",
       "      <th>Veli</th>\n",
       "      <td>-1.040163</td>\n",
       "      <td>-0.356415</td>\n",
       "      <td>1.039733</td>\n",
       "    </tr>\n",
       "    <tr>\n",
       "      <th>Ceyhun</th>\n",
       "      <td>0.485790</td>\n",
       "      <td>-0.175285</td>\n",
       "      <td>0.059085</td>\n",
       "    </tr>\n",
       "    <tr>\n",
       "      <th>Deniz</th>\n",
       "      <td>-0.209482</td>\n",
       "      <td>-0.173021</td>\n",
       "      <td>2.013903</td>\n",
       "    </tr>\n",
       "  </tbody>\n",
       "</table>\n",
       "</div>"
      ],
      "text/plain": [
       "            Maas       Yas  Calısma Saati\n",
       "Ali     1.221387 -1.971308      -0.991871\n",
       "Veli   -1.040163 -0.356415       1.039733\n",
       "Ceyhun  0.485790 -0.175285       0.059085\n",
       "Deniz  -0.209482 -0.173021       2.013903"
      ]
     },
     "execution_count": 35,
     "metadata": {},
     "output_type": "execute_result"
    }
   ],
   "source": [
    "yeni_data_frame"
   ]
  },
  {
   "cell_type": "code",
   "execution_count": 36,
   "metadata": {},
   "outputs": [],
   "source": [
    "yeni_data_frame[\"Tecrube\"] = yeni_data_frame[\"Yas\"]/2\n",
    "#yeni kolon ekleme"
   ]
  },
  {
   "cell_type": "code",
   "execution_count": 37,
   "metadata": {},
   "outputs": [
    {
     "data": {
      "text/html": [
       "<div>\n",
       "<style scoped>\n",
       "    .dataframe tbody tr th:only-of-type {\n",
       "        vertical-align: middle;\n",
       "    }\n",
       "\n",
       "    .dataframe tbody tr th {\n",
       "        vertical-align: top;\n",
       "    }\n",
       "\n",
       "    .dataframe thead th {\n",
       "        text-align: right;\n",
       "    }\n",
       "</style>\n",
       "<table border=\"1\" class=\"dataframe\">\n",
       "  <thead>\n",
       "    <tr style=\"text-align: right;\">\n",
       "      <th></th>\n",
       "      <th>Maas</th>\n",
       "      <th>Yas</th>\n",
       "      <th>Calısma Saati</th>\n",
       "      <th>Tecrube</th>\n",
       "    </tr>\n",
       "  </thead>\n",
       "  <tbody>\n",
       "    <tr>\n",
       "      <th>Ali</th>\n",
       "      <td>1.221387</td>\n",
       "      <td>-1.971308</td>\n",
       "      <td>-0.991871</td>\n",
       "      <td>-0.985654</td>\n",
       "    </tr>\n",
       "    <tr>\n",
       "      <th>Veli</th>\n",
       "      <td>-1.040163</td>\n",
       "      <td>-0.356415</td>\n",
       "      <td>1.039733</td>\n",
       "      <td>-0.178208</td>\n",
       "    </tr>\n",
       "    <tr>\n",
       "      <th>Ceyhun</th>\n",
       "      <td>0.485790</td>\n",
       "      <td>-0.175285</td>\n",
       "      <td>0.059085</td>\n",
       "      <td>-0.087642</td>\n",
       "    </tr>\n",
       "    <tr>\n",
       "      <th>Deniz</th>\n",
       "      <td>-0.209482</td>\n",
       "      <td>-0.173021</td>\n",
       "      <td>2.013903</td>\n",
       "      <td>-0.086510</td>\n",
       "    </tr>\n",
       "  </tbody>\n",
       "</table>\n",
       "</div>"
      ],
      "text/plain": [
       "            Maas       Yas  Calısma Saati   Tecrube\n",
       "Ali     1.221387 -1.971308      -0.991871 -0.985654\n",
       "Veli   -1.040163 -0.356415       1.039733 -0.178208\n",
       "Ceyhun  0.485790 -0.175285       0.059085 -0.087642\n",
       "Deniz  -0.209482 -0.173021       2.013903 -0.086510"
      ]
     },
     "execution_count": 37,
     "metadata": {},
     "output_type": "execute_result"
    }
   ],
   "source": [
    "yeni_data_frame"
   ]
  },
  {
   "cell_type": "code",
   "execution_count": 40,
   "metadata": {},
   "outputs": [
    {
     "data": {
      "text/html": [
       "<div>\n",
       "<style scoped>\n",
       "    .dataframe tbody tr th:only-of-type {\n",
       "        vertical-align: middle;\n",
       "    }\n",
       "\n",
       "    .dataframe tbody tr th {\n",
       "        vertical-align: top;\n",
       "    }\n",
       "\n",
       "    .dataframe thead th {\n",
       "        text-align: right;\n",
       "    }\n",
       "</style>\n",
       "<table border=\"1\" class=\"dataframe\">\n",
       "  <thead>\n",
       "    <tr style=\"text-align: right;\">\n",
       "      <th></th>\n",
       "      <th>Maas</th>\n",
       "      <th>Yas</th>\n",
       "      <th>Calısma Saati</th>\n",
       "    </tr>\n",
       "  </thead>\n",
       "  <tbody>\n",
       "    <tr>\n",
       "      <th>Ali</th>\n",
       "      <td>1.221387</td>\n",
       "      <td>-1.971308</td>\n",
       "      <td>-0.991871</td>\n",
       "    </tr>\n",
       "    <tr>\n",
       "      <th>Veli</th>\n",
       "      <td>-1.040163</td>\n",
       "      <td>-0.356415</td>\n",
       "      <td>1.039733</td>\n",
       "    </tr>\n",
       "    <tr>\n",
       "      <th>Ceyhun</th>\n",
       "      <td>0.485790</td>\n",
       "      <td>-0.175285</td>\n",
       "      <td>0.059085</td>\n",
       "    </tr>\n",
       "    <tr>\n",
       "      <th>Deniz</th>\n",
       "      <td>-0.209482</td>\n",
       "      <td>-0.173021</td>\n",
       "      <td>2.013903</td>\n",
       "    </tr>\n",
       "  </tbody>\n",
       "</table>\n",
       "</div>"
      ],
      "text/plain": [
       "            Maas       Yas  Calısma Saati\n",
       "Ali     1.221387 -1.971308      -0.991871\n",
       "Veli   -1.040163 -0.356415       1.039733\n",
       "Ceyhun  0.485790 -0.175285       0.059085\n",
       "Deniz  -0.209482 -0.173021       2.013903"
      ]
     },
     "execution_count": 40,
     "metadata": {},
     "output_type": "execute_result"
    }
   ],
   "source": [
    "yeni_data_frame.drop(\"Tecrube\", axis=1) \n",
    "#istenen sütunu sildik\n",
    "#axis 1 deme sebebimiz sütun ismi olduğunu belirtmek"
   ]
  },
  {
   "cell_type": "code",
   "execution_count": 41,
   "metadata": {},
   "outputs": [
    {
     "data": {
      "text/html": [
       "<div>\n",
       "<style scoped>\n",
       "    .dataframe tbody tr th:only-of-type {\n",
       "        vertical-align: middle;\n",
       "    }\n",
       "\n",
       "    .dataframe tbody tr th {\n",
       "        vertical-align: top;\n",
       "    }\n",
       "\n",
       "    .dataframe thead th {\n",
       "        text-align: right;\n",
       "    }\n",
       "</style>\n",
       "<table border=\"1\" class=\"dataframe\">\n",
       "  <thead>\n",
       "    <tr style=\"text-align: right;\">\n",
       "      <th></th>\n",
       "      <th>Maas</th>\n",
       "      <th>Yas</th>\n",
       "      <th>Calısma Saati</th>\n",
       "      <th>Tecrube</th>\n",
       "    </tr>\n",
       "  </thead>\n",
       "  <tbody>\n",
       "    <tr>\n",
       "      <th>Ali</th>\n",
       "      <td>1.221387</td>\n",
       "      <td>-1.971308</td>\n",
       "      <td>-0.991871</td>\n",
       "      <td>-0.985654</td>\n",
       "    </tr>\n",
       "    <tr>\n",
       "      <th>Ceyhun</th>\n",
       "      <td>0.485790</td>\n",
       "      <td>-0.175285</td>\n",
       "      <td>0.059085</td>\n",
       "      <td>-0.087642</td>\n",
       "    </tr>\n",
       "    <tr>\n",
       "      <th>Deniz</th>\n",
       "      <td>-0.209482</td>\n",
       "      <td>-0.173021</td>\n",
       "      <td>2.013903</td>\n",
       "      <td>-0.086510</td>\n",
       "    </tr>\n",
       "  </tbody>\n",
       "</table>\n",
       "</div>"
      ],
      "text/plain": [
       "            Maas       Yas  Calısma Saati   Tecrube\n",
       "Ali     1.221387 -1.971308      -0.991871 -0.985654\n",
       "Ceyhun  0.485790 -0.175285       0.059085 -0.087642\n",
       "Deniz  -0.209482 -0.173021       2.013903 -0.086510"
      ]
     },
     "execution_count": 41,
     "metadata": {},
     "output_type": "execute_result"
    }
   ],
   "source": [
    "yeni_data_frame.drop(\"Veli\", axis=0)\n",
    "#istenen satırı sildim\n",
    "#axis = 0 deme sebebi bunun bir satır olduğunu belirtmek"
   ]
  },
  {
   "cell_type": "code",
   "execution_count": 43,
   "metadata": {},
   "outputs": [
    {
     "data": {
      "text/html": [
       "<div>\n",
       "<style scoped>\n",
       "    .dataframe tbody tr th:only-of-type {\n",
       "        vertical-align: middle;\n",
       "    }\n",
       "\n",
       "    .dataframe tbody tr th {\n",
       "        vertical-align: top;\n",
       "    }\n",
       "\n",
       "    .dataframe thead th {\n",
       "        text-align: right;\n",
       "    }\n",
       "</style>\n",
       "<table border=\"1\" class=\"dataframe\">\n",
       "  <thead>\n",
       "    <tr style=\"text-align: right;\">\n",
       "      <th></th>\n",
       "      <th>Maas</th>\n",
       "      <th>Yas</th>\n",
       "      <th>Calısma Saati</th>\n",
       "      <th>Tecrube</th>\n",
       "    </tr>\n",
       "  </thead>\n",
       "  <tbody>\n",
       "    <tr>\n",
       "      <th>Ali</th>\n",
       "      <td>1.221387</td>\n",
       "      <td>-1.971308</td>\n",
       "      <td>-0.991871</td>\n",
       "      <td>-0.985654</td>\n",
       "    </tr>\n",
       "    <tr>\n",
       "      <th>Veli</th>\n",
       "      <td>-1.040163</td>\n",
       "      <td>-0.356415</td>\n",
       "      <td>1.039733</td>\n",
       "      <td>-0.178208</td>\n",
       "    </tr>\n",
       "    <tr>\n",
       "      <th>Ceyhun</th>\n",
       "      <td>0.485790</td>\n",
       "      <td>-0.175285</td>\n",
       "      <td>0.059085</td>\n",
       "      <td>-0.087642</td>\n",
       "    </tr>\n",
       "    <tr>\n",
       "      <th>Deniz</th>\n",
       "      <td>-0.209482</td>\n",
       "      <td>-0.173021</td>\n",
       "      <td>2.013903</td>\n",
       "      <td>-0.086510</td>\n",
       "    </tr>\n",
       "  </tbody>\n",
       "</table>\n",
       "</div>"
      ],
      "text/plain": [
       "            Maas       Yas  Calısma Saati   Tecrube\n",
       "Ali     1.221387 -1.971308      -0.991871 -0.985654\n",
       "Veli   -1.040163 -0.356415       1.039733 -0.178208\n",
       "Ceyhun  0.485790 -0.175285       0.059085 -0.087642\n",
       "Deniz  -0.209482 -0.173021       2.013903 -0.086510"
      ]
     },
     "execution_count": 43,
     "metadata": {},
     "output_type": "execute_result"
    }
   ],
   "source": [
    "yeni_data_frame\n",
    "#asıl dataframe hala değişmemiş"
   ]
  },
  {
   "cell_type": "code",
   "execution_count": 51,
   "metadata": {},
   "outputs": [],
   "source": [
    "yeni_data_frame[\"Emeklilik Yasi\"]= yeni_data_frame[\"Yas\"]+ yeni_data_frame[\"Yas\"]"
   ]
  },
  {
   "cell_type": "code",
   "execution_count": 52,
   "metadata": {},
   "outputs": [
    {
     "data": {
      "text/html": [
       "<div>\n",
       "<style scoped>\n",
       "    .dataframe tbody tr th:only-of-type {\n",
       "        vertical-align: middle;\n",
       "    }\n",
       "\n",
       "    .dataframe tbody tr th {\n",
       "        vertical-align: top;\n",
       "    }\n",
       "\n",
       "    .dataframe thead th {\n",
       "        text-align: right;\n",
       "    }\n",
       "</style>\n",
       "<table border=\"1\" class=\"dataframe\">\n",
       "  <thead>\n",
       "    <tr style=\"text-align: right;\">\n",
       "      <th></th>\n",
       "      <th>Maas</th>\n",
       "      <th>Yas</th>\n",
       "      <th>Calısma Saati</th>\n",
       "      <th>Emeklilik Yasi</th>\n",
       "    </tr>\n",
       "  </thead>\n",
       "  <tbody>\n",
       "    <tr>\n",
       "      <th>Ali</th>\n",
       "      <td>1.221387</td>\n",
       "      <td>-1.971308</td>\n",
       "      <td>-0.991871</td>\n",
       "      <td>-3.942617</td>\n",
       "    </tr>\n",
       "    <tr>\n",
       "      <th>Veli</th>\n",
       "      <td>-1.040163</td>\n",
       "      <td>-0.356415</td>\n",
       "      <td>1.039733</td>\n",
       "      <td>-0.712830</td>\n",
       "    </tr>\n",
       "    <tr>\n",
       "      <th>Ceyhun</th>\n",
       "      <td>0.485790</td>\n",
       "      <td>-0.175285</td>\n",
       "      <td>0.059085</td>\n",
       "      <td>-0.350570</td>\n",
       "    </tr>\n",
       "    <tr>\n",
       "      <th>Deniz</th>\n",
       "      <td>-0.209482</td>\n",
       "      <td>-0.173021</td>\n",
       "      <td>2.013903</td>\n",
       "      <td>-0.346041</td>\n",
       "    </tr>\n",
       "  </tbody>\n",
       "</table>\n",
       "</div>"
      ],
      "text/plain": [
       "            Maas       Yas  Calısma Saati  Emeklilik Yasi\n",
       "Ali     1.221387 -1.971308      -0.991871       -3.942617\n",
       "Veli   -1.040163 -0.356415       1.039733       -0.712830\n",
       "Ceyhun  0.485790 -0.175285       0.059085       -0.350570\n",
       "Deniz  -0.209482 -0.173021       2.013903       -0.346041"
      ]
     },
     "execution_count": 52,
     "metadata": {},
     "output_type": "execute_result"
    }
   ],
   "source": [
    "yeni_data_frame"
   ]
  },
  {
   "cell_type": "code",
   "execution_count": 53,
   "metadata": {},
   "outputs": [],
   "source": [
    "yeni_data_frame.drop(\"Emeklilik Yasi\", axis=1, inplace=True)\n",
    "#inplace=True dersek istenen yeri asıl dataframeden de temelli olarak siler"
   ]
  },
  {
   "cell_type": "code",
   "execution_count": 54,
   "metadata": {},
   "outputs": [
    {
     "data": {
      "text/html": [
       "<div>\n",
       "<style scoped>\n",
       "    .dataframe tbody tr th:only-of-type {\n",
       "        vertical-align: middle;\n",
       "    }\n",
       "\n",
       "    .dataframe tbody tr th {\n",
       "        vertical-align: top;\n",
       "    }\n",
       "\n",
       "    .dataframe thead th {\n",
       "        text-align: right;\n",
       "    }\n",
       "</style>\n",
       "<table border=\"1\" class=\"dataframe\">\n",
       "  <thead>\n",
       "    <tr style=\"text-align: right;\">\n",
       "      <th></th>\n",
       "      <th>Maas</th>\n",
       "      <th>Yas</th>\n",
       "      <th>Calısma Saati</th>\n",
       "    </tr>\n",
       "  </thead>\n",
       "  <tbody>\n",
       "    <tr>\n",
       "      <th>Ali</th>\n",
       "      <td>1.221387</td>\n",
       "      <td>-1.971308</td>\n",
       "      <td>-0.991871</td>\n",
       "    </tr>\n",
       "    <tr>\n",
       "      <th>Veli</th>\n",
       "      <td>-1.040163</td>\n",
       "      <td>-0.356415</td>\n",
       "      <td>1.039733</td>\n",
       "    </tr>\n",
       "    <tr>\n",
       "      <th>Ceyhun</th>\n",
       "      <td>0.485790</td>\n",
       "      <td>-0.175285</td>\n",
       "      <td>0.059085</td>\n",
       "    </tr>\n",
       "    <tr>\n",
       "      <th>Deniz</th>\n",
       "      <td>-0.209482</td>\n",
       "      <td>-0.173021</td>\n",
       "      <td>2.013903</td>\n",
       "    </tr>\n",
       "  </tbody>\n",
       "</table>\n",
       "</div>"
      ],
      "text/plain": [
       "            Maas       Yas  Calısma Saati\n",
       "Ali     1.221387 -1.971308      -0.991871\n",
       "Veli   -1.040163 -0.356415       1.039733\n",
       "Ceyhun  0.485790 -0.175285       0.059085\n",
       "Deniz  -0.209482 -0.173021       2.013903"
      ]
     },
     "execution_count": 54,
     "metadata": {},
     "output_type": "execute_result"
    }
   ],
   "source": [
    "yeni_data_frame"
   ]
  },
  {
   "cell_type": "code",
   "execution_count": 56,
   "metadata": {},
   "outputs": [
    {
     "data": {
      "text/plain": [
       "-0.17528484965304433"
      ]
     },
     "execution_count": 56,
     "metadata": {},
     "output_type": "execute_result"
    }
   ],
   "source": [
    "yeni_data_frame.loc[\"Ceyhun\"][\"Yas\"] \n",
    "#istenen elemanı bulma"
   ]
  },
  {
   "cell_type": "code",
   "execution_count": 57,
   "metadata": {},
   "outputs": [
    {
     "data": {
      "text/plain": [
       "-0.17528484965304433"
      ]
     },
     "execution_count": 57,
     "metadata": {},
     "output_type": "execute_result"
    }
   ],
   "source": [
    "yeni_data_frame.loc[\"Ceyhun\",\"Yas\"]\n",
    "#böyle de bulunabilir"
   ]
  },
  {
   "cell_type": "code",
   "execution_count": 58,
   "metadata": {},
   "outputs": [
    {
     "data": {
      "text/html": [
       "<div>\n",
       "<style scoped>\n",
       "    .dataframe tbody tr th:only-of-type {\n",
       "        vertical-align: middle;\n",
       "    }\n",
       "\n",
       "    .dataframe tbody tr th {\n",
       "        vertical-align: top;\n",
       "    }\n",
       "\n",
       "    .dataframe thead th {\n",
       "        text-align: right;\n",
       "    }\n",
       "</style>\n",
       "<table border=\"1\" class=\"dataframe\">\n",
       "  <thead>\n",
       "    <tr style=\"text-align: right;\">\n",
       "      <th></th>\n",
       "      <th>Maas</th>\n",
       "      <th>Yas</th>\n",
       "      <th>Calısma Saati</th>\n",
       "    </tr>\n",
       "  </thead>\n",
       "  <tbody>\n",
       "    <tr>\n",
       "      <th>Ali</th>\n",
       "      <td>False</td>\n",
       "      <td>True</td>\n",
       "      <td>True</td>\n",
       "    </tr>\n",
       "    <tr>\n",
       "      <th>Veli</th>\n",
       "      <td>True</td>\n",
       "      <td>True</td>\n",
       "      <td>False</td>\n",
       "    </tr>\n",
       "    <tr>\n",
       "      <th>Ceyhun</th>\n",
       "      <td>False</td>\n",
       "      <td>True</td>\n",
       "      <td>False</td>\n",
       "    </tr>\n",
       "    <tr>\n",
       "      <th>Deniz</th>\n",
       "      <td>True</td>\n",
       "      <td>True</td>\n",
       "      <td>False</td>\n",
       "    </tr>\n",
       "  </tbody>\n",
       "</table>\n",
       "</div>"
      ],
      "text/plain": [
       "         Maas   Yas  Calısma Saati\n",
       "Ali     False  True           True\n",
       "Veli     True  True          False\n",
       "Ceyhun  False  True          False\n",
       "Deniz    True  True          False"
      ]
     },
     "execution_count": 58,
     "metadata": {},
     "output_type": "execute_result"
    }
   ],
   "source": [
    "yeni_data_frame < 0\n",
    "#0dan küçükleri göster"
   ]
  },
  {
   "cell_type": "code",
   "execution_count": 59,
   "metadata": {},
   "outputs": [],
   "source": [
    "boolean_frame =yeni_data_frame < 0"
   ]
  },
  {
   "cell_type": "code",
   "execution_count": 60,
   "metadata": {},
   "outputs": [
    {
     "data": {
      "text/html": [
       "<div>\n",
       "<style scoped>\n",
       "    .dataframe tbody tr th:only-of-type {\n",
       "        vertical-align: middle;\n",
       "    }\n",
       "\n",
       "    .dataframe tbody tr th {\n",
       "        vertical-align: top;\n",
       "    }\n",
       "\n",
       "    .dataframe thead th {\n",
       "        text-align: right;\n",
       "    }\n",
       "</style>\n",
       "<table border=\"1\" class=\"dataframe\">\n",
       "  <thead>\n",
       "    <tr style=\"text-align: right;\">\n",
       "      <th></th>\n",
       "      <th>Maas</th>\n",
       "      <th>Yas</th>\n",
       "      <th>Calısma Saati</th>\n",
       "    </tr>\n",
       "  </thead>\n",
       "  <tbody>\n",
       "    <tr>\n",
       "      <th>Ali</th>\n",
       "      <td>1.221387</td>\n",
       "      <td>-1.971308</td>\n",
       "      <td>-0.991871</td>\n",
       "    </tr>\n",
       "    <tr>\n",
       "      <th>Veli</th>\n",
       "      <td>-1.040163</td>\n",
       "      <td>-0.356415</td>\n",
       "      <td>1.039733</td>\n",
       "    </tr>\n",
       "    <tr>\n",
       "      <th>Ceyhun</th>\n",
       "      <td>0.485790</td>\n",
       "      <td>-0.175285</td>\n",
       "      <td>0.059085</td>\n",
       "    </tr>\n",
       "    <tr>\n",
       "      <th>Deniz</th>\n",
       "      <td>-0.209482</td>\n",
       "      <td>-0.173021</td>\n",
       "      <td>2.013903</td>\n",
       "    </tr>\n",
       "  </tbody>\n",
       "</table>\n",
       "</div>"
      ],
      "text/plain": [
       "            Maas       Yas  Calısma Saati\n",
       "Ali     1.221387 -1.971308      -0.991871\n",
       "Veli   -1.040163 -0.356415       1.039733\n",
       "Ceyhun  0.485790 -0.175285       0.059085\n",
       "Deniz  -0.209482 -0.173021       2.013903"
      ]
     },
     "execution_count": 60,
     "metadata": {},
     "output_type": "execute_result"
    }
   ],
   "source": [
    "yeni_data_frame"
   ]
  },
  {
   "cell_type": "code",
   "execution_count": 61,
   "metadata": {},
   "outputs": [
    {
     "data": {
      "text/html": [
       "<div>\n",
       "<style scoped>\n",
       "    .dataframe tbody tr th:only-of-type {\n",
       "        vertical-align: middle;\n",
       "    }\n",
       "\n",
       "    .dataframe tbody tr th {\n",
       "        vertical-align: top;\n",
       "    }\n",
       "\n",
       "    .dataframe thead th {\n",
       "        text-align: right;\n",
       "    }\n",
       "</style>\n",
       "<table border=\"1\" class=\"dataframe\">\n",
       "  <thead>\n",
       "    <tr style=\"text-align: right;\">\n",
       "      <th></th>\n",
       "      <th>Maas</th>\n",
       "      <th>Yas</th>\n",
       "      <th>Calısma Saati</th>\n",
       "    </tr>\n",
       "  </thead>\n",
       "  <tbody>\n",
       "    <tr>\n",
       "      <th>Ali</th>\n",
       "      <td>False</td>\n",
       "      <td>True</td>\n",
       "      <td>True</td>\n",
       "    </tr>\n",
       "    <tr>\n",
       "      <th>Veli</th>\n",
       "      <td>True</td>\n",
       "      <td>True</td>\n",
       "      <td>False</td>\n",
       "    </tr>\n",
       "    <tr>\n",
       "      <th>Ceyhun</th>\n",
       "      <td>False</td>\n",
       "      <td>True</td>\n",
       "      <td>False</td>\n",
       "    </tr>\n",
       "    <tr>\n",
       "      <th>Deniz</th>\n",
       "      <td>True</td>\n",
       "      <td>True</td>\n",
       "      <td>False</td>\n",
       "    </tr>\n",
       "  </tbody>\n",
       "</table>\n",
       "</div>"
      ],
      "text/plain": [
       "         Maas   Yas  Calısma Saati\n",
       "Ali     False  True           True\n",
       "Veli     True  True          False\n",
       "Ceyhun  False  True          False\n",
       "Deniz    True  True          False"
      ]
     },
     "execution_count": 61,
     "metadata": {},
     "output_type": "execute_result"
    }
   ],
   "source": [
    "boolean_frame"
   ]
  },
  {
   "cell_type": "code",
   "execution_count": 63,
   "metadata": {},
   "outputs": [
    {
     "data": {
      "text/html": [
       "<div>\n",
       "<style scoped>\n",
       "    .dataframe tbody tr th:only-of-type {\n",
       "        vertical-align: middle;\n",
       "    }\n",
       "\n",
       "    .dataframe tbody tr th {\n",
       "        vertical-align: top;\n",
       "    }\n",
       "\n",
       "    .dataframe thead th {\n",
       "        text-align: right;\n",
       "    }\n",
       "</style>\n",
       "<table border=\"1\" class=\"dataframe\">\n",
       "  <thead>\n",
       "    <tr style=\"text-align: right;\">\n",
       "      <th></th>\n",
       "      <th>Maas</th>\n",
       "      <th>Yas</th>\n",
       "      <th>Calısma Saati</th>\n",
       "    </tr>\n",
       "  </thead>\n",
       "  <tbody>\n",
       "    <tr>\n",
       "      <th>Ali</th>\n",
       "      <td>NaN</td>\n",
       "      <td>-1.971308</td>\n",
       "      <td>-0.991871</td>\n",
       "    </tr>\n",
       "    <tr>\n",
       "      <th>Veli</th>\n",
       "      <td>-1.040163</td>\n",
       "      <td>-0.356415</td>\n",
       "      <td>NaN</td>\n",
       "    </tr>\n",
       "    <tr>\n",
       "      <th>Ceyhun</th>\n",
       "      <td>NaN</td>\n",
       "      <td>-0.175285</td>\n",
       "      <td>NaN</td>\n",
       "    </tr>\n",
       "    <tr>\n",
       "      <th>Deniz</th>\n",
       "      <td>-0.209482</td>\n",
       "      <td>-0.173021</td>\n",
       "      <td>NaN</td>\n",
       "    </tr>\n",
       "  </tbody>\n",
       "</table>\n",
       "</div>"
      ],
      "text/plain": [
       "            Maas       Yas  Calısma Saati\n",
       "Ali          NaN -1.971308      -0.991871\n",
       "Veli   -1.040163 -0.356415            NaN\n",
       "Ceyhun       NaN -0.175285            NaN\n",
       "Deniz  -0.209482 -0.173021            NaN"
      ]
     },
     "execution_count": 63,
     "metadata": {},
     "output_type": "execute_result"
    }
   ],
   "source": [
    "yeni_data_frame[boolean_frame]\n",
    "#başka bir değişkene eşitleyip o değişkeni içinde çağırırsak sadece o istenenleri gösterir"
   ]
  },
  {
   "cell_type": "code",
   "execution_count": 67,
   "metadata": {},
   "outputs": [
    {
     "data": {
      "text/html": [
       "<div>\n",
       "<style scoped>\n",
       "    .dataframe tbody tr th:only-of-type {\n",
       "        vertical-align: middle;\n",
       "    }\n",
       "\n",
       "    .dataframe tbody tr th {\n",
       "        vertical-align: top;\n",
       "    }\n",
       "\n",
       "    .dataframe thead th {\n",
       "        text-align: right;\n",
       "    }\n",
       "</style>\n",
       "<table border=\"1\" class=\"dataframe\">\n",
       "  <thead>\n",
       "    <tr style=\"text-align: right;\">\n",
       "      <th></th>\n",
       "      <th>Maas</th>\n",
       "      <th>Yas</th>\n",
       "      <th>Calısma Saati</th>\n",
       "    </tr>\n",
       "  </thead>\n",
       "  <tbody>\n",
       "    <tr>\n",
       "      <th>Ali</th>\n",
       "      <td>1.221387</td>\n",
       "      <td>-1.971308</td>\n",
       "      <td>-0.991871</td>\n",
       "    </tr>\n",
       "    <tr>\n",
       "      <th>Ceyhun</th>\n",
       "      <td>0.485790</td>\n",
       "      <td>-0.175285</td>\n",
       "      <td>0.059085</td>\n",
       "    </tr>\n",
       "  </tbody>\n",
       "</table>\n",
       "</div>"
      ],
      "text/plain": [
       "            Maas       Yas  Calısma Saati\n",
       "Ali     1.221387 -1.971308      -0.991871\n",
       "Ceyhun  0.485790 -0.175285       0.059085"
      ]
     },
     "execution_count": 67,
     "metadata": {},
     "output_type": "execute_result"
    }
   ],
   "source": [
    "yeni_data_frame[yeni_data_frame[\"Maas\"] >  0]\n",
    "#istenen özelliğe uymayan satırları göstermiyor"
   ]
  },
  {
   "cell_type": "code",
   "execution_count": 68,
   "metadata": {},
   "outputs": [
    {
     "data": {
      "text/html": [
       "<div>\n",
       "<style scoped>\n",
       "    .dataframe tbody tr th:only-of-type {\n",
       "        vertical-align: middle;\n",
       "    }\n",
       "\n",
       "    .dataframe tbody tr th {\n",
       "        vertical-align: top;\n",
       "    }\n",
       "\n",
       "    .dataframe thead th {\n",
       "        text-align: right;\n",
       "    }\n",
       "</style>\n",
       "<table border=\"1\" class=\"dataframe\">\n",
       "  <thead>\n",
       "    <tr style=\"text-align: right;\">\n",
       "      <th></th>\n",
       "      <th>Maas</th>\n",
       "      <th>Yas</th>\n",
       "      <th>Calısma Saati</th>\n",
       "    </tr>\n",
       "  </thead>\n",
       "  <tbody>\n",
       "    <tr>\n",
       "      <th>Ali</th>\n",
       "      <td>1.221387</td>\n",
       "      <td>-1.971308</td>\n",
       "      <td>-0.991871</td>\n",
       "    </tr>\n",
       "    <tr>\n",
       "      <th>Veli</th>\n",
       "      <td>-1.040163</td>\n",
       "      <td>-0.356415</td>\n",
       "      <td>1.039733</td>\n",
       "    </tr>\n",
       "    <tr>\n",
       "      <th>Ceyhun</th>\n",
       "      <td>0.485790</td>\n",
       "      <td>-0.175285</td>\n",
       "      <td>0.059085</td>\n",
       "    </tr>\n",
       "    <tr>\n",
       "      <th>Deniz</th>\n",
       "      <td>-0.209482</td>\n",
       "      <td>-0.173021</td>\n",
       "      <td>2.013903</td>\n",
       "    </tr>\n",
       "  </tbody>\n",
       "</table>\n",
       "</div>"
      ],
      "text/plain": [
       "            Maas       Yas  Calısma Saati\n",
       "Ali     1.221387 -1.971308      -0.991871\n",
       "Veli   -1.040163 -0.356415       1.039733\n",
       "Ceyhun  0.485790 -0.175285       0.059085\n",
       "Deniz  -0.209482 -0.173021       2.013903"
      ]
     },
     "execution_count": 68,
     "metadata": {},
     "output_type": "execute_result"
    }
   ],
   "source": [
    "yeni_data_frame"
   ]
  },
  {
   "cell_type": "code",
   "execution_count": 75,
   "metadata": {},
   "outputs": [
    {
     "data": {
      "text/html": [
       "<div>\n",
       "<style scoped>\n",
       "    .dataframe tbody tr th:only-of-type {\n",
       "        vertical-align: middle;\n",
       "    }\n",
       "\n",
       "    .dataframe tbody tr th {\n",
       "        vertical-align: top;\n",
       "    }\n",
       "\n",
       "    .dataframe thead th {\n",
       "        text-align: right;\n",
       "    }\n",
       "</style>\n",
       "<table border=\"1\" class=\"dataframe\">\n",
       "  <thead>\n",
       "    <tr style=\"text-align: right;\">\n",
       "      <th></th>\n",
       "      <th>index</th>\n",
       "      <th>Maas</th>\n",
       "      <th>Yas</th>\n",
       "      <th>Calısma Saati</th>\n",
       "    </tr>\n",
       "  </thead>\n",
       "  <tbody>\n",
       "    <tr>\n",
       "      <th>0</th>\n",
       "      <td>Ali</td>\n",
       "      <td>1.221387</td>\n",
       "      <td>-1.971308</td>\n",
       "      <td>-0.991871</td>\n",
       "    </tr>\n",
       "    <tr>\n",
       "      <th>1</th>\n",
       "      <td>Veli</td>\n",
       "      <td>-1.040163</td>\n",
       "      <td>-0.356415</td>\n",
       "      <td>1.039733</td>\n",
       "    </tr>\n",
       "    <tr>\n",
       "      <th>2</th>\n",
       "      <td>Ceyhun</td>\n",
       "      <td>0.485790</td>\n",
       "      <td>-0.175285</td>\n",
       "      <td>0.059085</td>\n",
       "    </tr>\n",
       "    <tr>\n",
       "      <th>3</th>\n",
       "      <td>Deniz</td>\n",
       "      <td>-0.209482</td>\n",
       "      <td>-0.173021</td>\n",
       "      <td>2.013903</td>\n",
       "    </tr>\n",
       "  </tbody>\n",
       "</table>\n",
       "</div>"
      ],
      "text/plain": [
       "    index      Maas       Yas  Calısma Saati\n",
       "0     Ali  1.221387 -1.971308      -0.991871\n",
       "1    Veli -1.040163 -0.356415       1.039733\n",
       "2  Ceyhun  0.485790 -0.175285       0.059085\n",
       "3   Deniz -0.209482 -0.173021       2.013903"
      ]
     },
     "execution_count": 75,
     "metadata": {},
     "output_type": "execute_result"
    }
   ],
   "source": [
    "yeni_data_frame.reset_index()\n",
    "#index şelinde ayrı kolon açar"
   ]
  },
  {
   "cell_type": "code",
   "execution_count": 77,
   "metadata": {},
   "outputs": [
    {
     "data": {
      "text/html": [
       "<div>\n",
       "<style scoped>\n",
       "    .dataframe tbody tr th:only-of-type {\n",
       "        vertical-align: middle;\n",
       "    }\n",
       "\n",
       "    .dataframe tbody tr th {\n",
       "        vertical-align: top;\n",
       "    }\n",
       "\n",
       "    .dataframe thead th {\n",
       "        text-align: right;\n",
       "    }\n",
       "</style>\n",
       "<table border=\"1\" class=\"dataframe\">\n",
       "  <thead>\n",
       "    <tr style=\"text-align: right;\">\n",
       "      <th></th>\n",
       "      <th>Maas</th>\n",
       "      <th>Yas</th>\n",
       "      <th>Calısma Saati</th>\n",
       "    </tr>\n",
       "  </thead>\n",
       "  <tbody>\n",
       "    <tr>\n",
       "      <th>Ali</th>\n",
       "      <td>1.221387</td>\n",
       "      <td>-1.971308</td>\n",
       "      <td>-0.991871</td>\n",
       "    </tr>\n",
       "    <tr>\n",
       "      <th>Veli</th>\n",
       "      <td>-1.040163</td>\n",
       "      <td>-0.356415</td>\n",
       "      <td>1.039733</td>\n",
       "    </tr>\n",
       "    <tr>\n",
       "      <th>Ceyhun</th>\n",
       "      <td>0.485790</td>\n",
       "      <td>-0.175285</td>\n",
       "      <td>0.059085</td>\n",
       "    </tr>\n",
       "    <tr>\n",
       "      <th>Deniz</th>\n",
       "      <td>-0.209482</td>\n",
       "      <td>-0.173021</td>\n",
       "      <td>2.013903</td>\n",
       "    </tr>\n",
       "  </tbody>\n",
       "</table>\n",
       "</div>"
      ],
      "text/plain": [
       "            Maas       Yas  Calısma Saati\n",
       "Ali     1.221387 -1.971308      -0.991871\n",
       "Veli   -1.040163 -0.356415       1.039733\n",
       "Ceyhun  0.485790 -0.175285       0.059085\n",
       "Deniz  -0.209482 -0.173021       2.013903"
      ]
     },
     "execution_count": 77,
     "metadata": {},
     "output_type": "execute_result"
    }
   ],
   "source": [
    "yeni_data_frame\n",
    "#yukarıda inplace kullanmadığımız için ana frame değişmedi"
   ]
  },
  {
   "cell_type": "code",
   "execution_count": 78,
   "metadata": {},
   "outputs": [],
   "source": [
    "yeni_index_listesi = [\"A\",\"V\",\"C\",\"D\"]"
   ]
  },
  {
   "cell_type": "code",
   "execution_count": 79,
   "metadata": {},
   "outputs": [],
   "source": [
    "yeni_data_frame[\"Bas Harf\"] = yeni_index_listesi\n",
    "#istenen sütunu ekledim tabloma"
   ]
  },
  {
   "cell_type": "code",
   "execution_count": 80,
   "metadata": {},
   "outputs": [
    {
     "data": {
      "text/html": [
       "<div>\n",
       "<style scoped>\n",
       "    .dataframe tbody tr th:only-of-type {\n",
       "        vertical-align: middle;\n",
       "    }\n",
       "\n",
       "    .dataframe tbody tr th {\n",
       "        vertical-align: top;\n",
       "    }\n",
       "\n",
       "    .dataframe thead th {\n",
       "        text-align: right;\n",
       "    }\n",
       "</style>\n",
       "<table border=\"1\" class=\"dataframe\">\n",
       "  <thead>\n",
       "    <tr style=\"text-align: right;\">\n",
       "      <th></th>\n",
       "      <th>Maas</th>\n",
       "      <th>Yas</th>\n",
       "      <th>Calısma Saati</th>\n",
       "      <th>Bas Harf</th>\n",
       "    </tr>\n",
       "  </thead>\n",
       "  <tbody>\n",
       "    <tr>\n",
       "      <th>Ali</th>\n",
       "      <td>1.221387</td>\n",
       "      <td>-1.971308</td>\n",
       "      <td>-0.991871</td>\n",
       "      <td>A</td>\n",
       "    </tr>\n",
       "    <tr>\n",
       "      <th>Veli</th>\n",
       "      <td>-1.040163</td>\n",
       "      <td>-0.356415</td>\n",
       "      <td>1.039733</td>\n",
       "      <td>V</td>\n",
       "    </tr>\n",
       "    <tr>\n",
       "      <th>Ceyhun</th>\n",
       "      <td>0.485790</td>\n",
       "      <td>-0.175285</td>\n",
       "      <td>0.059085</td>\n",
       "      <td>C</td>\n",
       "    </tr>\n",
       "    <tr>\n",
       "      <th>Deniz</th>\n",
       "      <td>-0.209482</td>\n",
       "      <td>-0.173021</td>\n",
       "      <td>2.013903</td>\n",
       "      <td>D</td>\n",
       "    </tr>\n",
       "  </tbody>\n",
       "</table>\n",
       "</div>"
      ],
      "text/plain": [
       "            Maas       Yas  Calısma Saati Bas Harf\n",
       "Ali     1.221387 -1.971308      -0.991871        A\n",
       "Veli   -1.040163 -0.356415       1.039733        V\n",
       "Ceyhun  0.485790 -0.175285       0.059085        C\n",
       "Deniz  -0.209482 -0.173021       2.013903        D"
      ]
     },
     "execution_count": 80,
     "metadata": {},
     "output_type": "execute_result"
    }
   ],
   "source": [
    "yeni_data_frame"
   ]
  },
  {
   "cell_type": "code",
   "execution_count": 82,
   "metadata": {},
   "outputs": [
    {
     "data": {
      "text/html": [
       "<div>\n",
       "<style scoped>\n",
       "    .dataframe tbody tr th:only-of-type {\n",
       "        vertical-align: middle;\n",
       "    }\n",
       "\n",
       "    .dataframe tbody tr th {\n",
       "        vertical-align: top;\n",
       "    }\n",
       "\n",
       "    .dataframe thead th {\n",
       "        text-align: right;\n",
       "    }\n",
       "</style>\n",
       "<table border=\"1\" class=\"dataframe\">\n",
       "  <thead>\n",
       "    <tr style=\"text-align: right;\">\n",
       "      <th></th>\n",
       "      <th>Maas</th>\n",
       "      <th>Yas</th>\n",
       "      <th>Calısma Saati</th>\n",
       "    </tr>\n",
       "    <tr>\n",
       "      <th>Bas Harf</th>\n",
       "      <th></th>\n",
       "      <th></th>\n",
       "      <th></th>\n",
       "    </tr>\n",
       "  </thead>\n",
       "  <tbody>\n",
       "    <tr>\n",
       "      <th>A</th>\n",
       "      <td>1.221387</td>\n",
       "      <td>-1.971308</td>\n",
       "      <td>-0.991871</td>\n",
       "    </tr>\n",
       "    <tr>\n",
       "      <th>V</th>\n",
       "      <td>-1.040163</td>\n",
       "      <td>-0.356415</td>\n",
       "      <td>1.039733</td>\n",
       "    </tr>\n",
       "    <tr>\n",
       "      <th>C</th>\n",
       "      <td>0.485790</td>\n",
       "      <td>-0.175285</td>\n",
       "      <td>0.059085</td>\n",
       "    </tr>\n",
       "    <tr>\n",
       "      <th>D</th>\n",
       "      <td>-0.209482</td>\n",
       "      <td>-0.173021</td>\n",
       "      <td>2.013903</td>\n",
       "    </tr>\n",
       "  </tbody>\n",
       "</table>\n",
       "</div>"
      ],
      "text/plain": [
       "              Maas       Yas  Calısma Saati\n",
       "Bas Harf                                   \n",
       "A         1.221387 -1.971308      -0.991871\n",
       "V        -1.040163 -0.356415       1.039733\n",
       "C         0.485790 -0.175285       0.059085\n",
       "D        -0.209482 -0.173021       2.013903"
      ]
     },
     "execution_count": 82,
     "metadata": {},
     "output_type": "execute_result"
    }
   ],
   "source": [
    "yeni_data_frame.set_index(\"Bas Harf\")\n",
    "#istenen sütunu(kolonu) en başa yerleştirdim"
   ]
  },
  {
   "cell_type": "code",
   "execution_count": 84,
   "metadata": {},
   "outputs": [
    {
     "data": {
      "text/html": [
       "<div>\n",
       "<style scoped>\n",
       "    .dataframe tbody tr th:only-of-type {\n",
       "        vertical-align: middle;\n",
       "    }\n",
       "\n",
       "    .dataframe tbody tr th {\n",
       "        vertical-align: top;\n",
       "    }\n",
       "\n",
       "    .dataframe thead th {\n",
       "        text-align: right;\n",
       "    }\n",
       "</style>\n",
       "<table border=\"1\" class=\"dataframe\">\n",
       "  <thead>\n",
       "    <tr style=\"text-align: right;\">\n",
       "      <th></th>\n",
       "      <th>Maas</th>\n",
       "      <th>Yas</th>\n",
       "      <th>Calısma Saati</th>\n",
       "      <th>Bas Harf</th>\n",
       "    </tr>\n",
       "  </thead>\n",
       "  <tbody>\n",
       "    <tr>\n",
       "      <th>Ali</th>\n",
       "      <td>1.221387</td>\n",
       "      <td>-1.971308</td>\n",
       "      <td>-0.991871</td>\n",
       "      <td>A</td>\n",
       "    </tr>\n",
       "    <tr>\n",
       "      <th>Veli</th>\n",
       "      <td>-1.040163</td>\n",
       "      <td>-0.356415</td>\n",
       "      <td>1.039733</td>\n",
       "      <td>V</td>\n",
       "    </tr>\n",
       "    <tr>\n",
       "      <th>Ceyhun</th>\n",
       "      <td>0.485790</td>\n",
       "      <td>-0.175285</td>\n",
       "      <td>0.059085</td>\n",
       "      <td>C</td>\n",
       "    </tr>\n",
       "    <tr>\n",
       "      <th>Deniz</th>\n",
       "      <td>-0.209482</td>\n",
       "      <td>-0.173021</td>\n",
       "      <td>2.013903</td>\n",
       "      <td>D</td>\n",
       "    </tr>\n",
       "  </tbody>\n",
       "</table>\n",
       "</div>"
      ],
      "text/plain": [
       "            Maas       Yas  Calısma Saati Bas Harf\n",
       "Ali     1.221387 -1.971308      -0.991871        A\n",
       "Veli   -1.040163 -0.356415       1.039733        V\n",
       "Ceyhun  0.485790 -0.175285       0.059085        C\n",
       "Deniz  -0.209482 -0.173021       2.013903        D"
      ]
     },
     "execution_count": 84,
     "metadata": {},
     "output_type": "execute_result"
    }
   ],
   "source": [
    "yeni_data_frame"
   ]
  },
  {
   "cell_type": "code",
   "execution_count": 87,
   "metadata": {},
   "outputs": [
    {
     "ename": "KeyError",
     "evalue": "\"None of ['Bas Harf'] are in the columns\"",
     "output_type": "error",
     "traceback": [
      "\u001b[1;31m---------------------------------------------------------------------------\u001b[0m",
      "\u001b[1;31mKeyError\u001b[0m                                  Traceback (most recent call last)",
      "\u001b[1;32m<ipython-input-87-330ee143bf77>\u001b[0m in \u001b[0;36m<module>\u001b[1;34m\u001b[0m\n\u001b[1;32m----> 1\u001b[1;33m \u001b[0myeni_data_frame\u001b[0m\u001b[1;33m.\u001b[0m\u001b[0mset_index\u001b[0m\u001b[1;33m(\u001b[0m\u001b[1;34m\"Bas Harf\"\u001b[0m\u001b[1;33m,\u001b[0m \u001b[0minplace\u001b[0m\u001b[1;33m=\u001b[0m\u001b[1;32mTrue\u001b[0m\u001b[1;33m)\u001b[0m\u001b[1;33m\u001b[0m\u001b[1;33m\u001b[0m\u001b[0m\n\u001b[0m\u001b[0;32m      2\u001b[0m \u001b[1;31m#inplace yaptığım için asıl tablo da temelli değişecek\u001b[0m\u001b[1;33m\u001b[0m\u001b[1;33m\u001b[0m\u001b[1;33m\u001b[0m\u001b[0m\n",
      "\u001b[1;32m~\\anaconda3\\lib\\site-packages\\pandas\\core\\frame.py\u001b[0m in \u001b[0;36mset_index\u001b[1;34m(self, keys, drop, append, inplace, verify_integrity)\u001b[0m\n\u001b[0;32m   4549\u001b[0m \u001b[1;33m\u001b[0m\u001b[0m\n\u001b[0;32m   4550\u001b[0m         \u001b[1;32mif\u001b[0m \u001b[0mmissing\u001b[0m\u001b[1;33m:\u001b[0m\u001b[1;33m\u001b[0m\u001b[1;33m\u001b[0m\u001b[0m\n\u001b[1;32m-> 4551\u001b[1;33m             \u001b[1;32mraise\u001b[0m \u001b[0mKeyError\u001b[0m\u001b[1;33m(\u001b[0m\u001b[1;34mf\"None of {missing} are in the columns\"\u001b[0m\u001b[1;33m)\u001b[0m\u001b[1;33m\u001b[0m\u001b[1;33m\u001b[0m\u001b[0m\n\u001b[0m\u001b[0;32m   4552\u001b[0m \u001b[1;33m\u001b[0m\u001b[0m\n\u001b[0;32m   4553\u001b[0m         \u001b[1;32mif\u001b[0m \u001b[0minplace\u001b[0m\u001b[1;33m:\u001b[0m\u001b[1;33m\u001b[0m\u001b[1;33m\u001b[0m\u001b[0m\n",
      "\u001b[1;31mKeyError\u001b[0m: \"None of ['Bas Harf'] are in the columns\""
     ]
    }
   ],
   "source": [
    "yeni_data_frame.set_index(\"Bas Harf\", inplace=True)\n",
    "#inplace yaptığım için asıl tablo da temelli değişecek\n",
    "#yanlışlıkla 2 kere çalıştırdığım için kod bulunamadı diyor, aslında kod doğru sorun yok"
   ]
  },
  {
   "cell_type": "code",
   "execution_count": 86,
   "metadata": {},
   "outputs": [
    {
     "data": {
      "text/html": [
       "<div>\n",
       "<style scoped>\n",
       "    .dataframe tbody tr th:only-of-type {\n",
       "        vertical-align: middle;\n",
       "    }\n",
       "\n",
       "    .dataframe tbody tr th {\n",
       "        vertical-align: top;\n",
       "    }\n",
       "\n",
       "    .dataframe thead th {\n",
       "        text-align: right;\n",
       "    }\n",
       "</style>\n",
       "<table border=\"1\" class=\"dataframe\">\n",
       "  <thead>\n",
       "    <tr style=\"text-align: right;\">\n",
       "      <th></th>\n",
       "      <th>Maas</th>\n",
       "      <th>Yas</th>\n",
       "      <th>Calısma Saati</th>\n",
       "    </tr>\n",
       "    <tr>\n",
       "      <th>Bas Harf</th>\n",
       "      <th></th>\n",
       "      <th></th>\n",
       "      <th></th>\n",
       "    </tr>\n",
       "  </thead>\n",
       "  <tbody>\n",
       "    <tr>\n",
       "      <th>A</th>\n",
       "      <td>1.221387</td>\n",
       "      <td>-1.971308</td>\n",
       "      <td>-0.991871</td>\n",
       "    </tr>\n",
       "    <tr>\n",
       "      <th>V</th>\n",
       "      <td>-1.040163</td>\n",
       "      <td>-0.356415</td>\n",
       "      <td>1.039733</td>\n",
       "    </tr>\n",
       "    <tr>\n",
       "      <th>C</th>\n",
       "      <td>0.485790</td>\n",
       "      <td>-0.175285</td>\n",
       "      <td>0.059085</td>\n",
       "    </tr>\n",
       "    <tr>\n",
       "      <th>D</th>\n",
       "      <td>-0.209482</td>\n",
       "      <td>-0.173021</td>\n",
       "      <td>2.013903</td>\n",
       "    </tr>\n",
       "  </tbody>\n",
       "</table>\n",
       "</div>"
      ],
      "text/plain": [
       "              Maas       Yas  Calısma Saati\n",
       "Bas Harf                                   \n",
       "A         1.221387 -1.971308      -0.991871\n",
       "V        -1.040163 -0.356415       1.039733\n",
       "C         0.485790 -0.175285       0.059085\n",
       "D        -0.209482 -0.173021       2.013903"
      ]
     },
     "execution_count": 86,
     "metadata": {},
     "output_type": "execute_result"
    }
   ],
   "source": [
    "yeni_data_frame"
   ]
  },
  {
   "cell_type": "code",
   "execution_count": 89,
   "metadata": {},
   "outputs": [
    {
     "data": {
      "text/plain": [
       "Maas             1.221387\n",
       "Yas             -1.971308\n",
       "Calısma Saati   -0.991871\n",
       "Name: A, dtype: float64"
      ]
     },
     "execution_count": 89,
     "metadata": {},
     "output_type": "execute_result"
    }
   ],
   "source": [
    "yeni_data_frame.loc[\"A\"]"
   ]
  },
  {
   "cell_type": "code",
   "execution_count": 1,
   "metadata": {},
   "outputs": [],
   "source": [
    "ilk_indexler =[\"Parks and Recs\",\"Parks and Recs\",\"Parks and Recs\",\"HIMYM\",\"HIMYM\",\"HIMYM\"]"
   ]
  },
  {
   "cell_type": "code",
   "execution_count": 2,
   "metadata": {},
   "outputs": [],
   "source": [
    "ic_indexler = [\"Leslie\",\"Ron\",\"Tom\",\"Ted\",\"Barney\",\"Robin\"]"
   ]
  },
  {
   "cell_type": "code",
   "execution_count": 4,
   "metadata": {},
   "outputs": [],
   "source": [
    "birlesmis_index =  list(zip(ilk_indexler,ic_indexler))"
   ]
  },
  {
   "cell_type": "code",
   "execution_count": 5,
   "metadata": {},
   "outputs": [
    {
     "data": {
      "text/plain": [
       "[('Parks and Recs', 'Leslie'),\n",
       " ('Parks and Recs', 'Ron'),\n",
       " ('Parks and Recs', 'Tom'),\n",
       " ('HIMYM', 'Ted'),\n",
       " ('HIMYM', 'Barney'),\n",
       " ('HIMYM', 'Robin')]"
      ]
     },
     "execution_count": 5,
     "metadata": {},
     "output_type": "execute_result"
    }
   ],
   "source": [
    "birlesmis_index"
   ]
  },
  {
   "cell_type": "code",
   "execution_count": 8,
   "metadata": {},
   "outputs": [],
   "source": [
    "birlesmis_index = pd.MultiIndex.from_tuples(birlesmis_index)\n",
    "#dataframe i böyle oluşturduk"
   ]
  },
  {
   "cell_type": "code",
   "execution_count": 9,
   "metadata": {},
   "outputs": [
    {
     "data": {
      "text/plain": [
       "MultiIndex([('Parks and Recs', 'Leslie'),\n",
       "            ('Parks and Recs',    'Ron'),\n",
       "            ('Parks and Recs',    'Tom'),\n",
       "            (         'HIMYM',    'Ted'),\n",
       "            (         'HIMYM', 'Barney'),\n",
       "            (         'HIMYM',  'Robin')],\n",
       "           )"
      ]
     },
     "execution_count": 9,
     "metadata": {},
     "output_type": "execute_result"
    }
   ],
   "source": [
    "birlesmis_index"
   ]
  },
  {
   "cell_type": "code",
   "execution_count": 14,
   "metadata": {},
   "outputs": [
    {
     "data": {
      "text/plain": [
       "pandas.core.indexes.multi.MultiIndex"
      ]
     },
     "execution_count": 14,
     "metadata": {},
     "output_type": "execute_result"
    }
   ],
   "source": [
    "type(birlesmis_index)"
   ]
  },
  {
   "cell_type": "code",
   "execution_count": 15,
   "metadata": {},
   "outputs": [],
   "source": [
    "sitcom_listem = [[35,\"Counselwoman\"],[47,\"Director\"],[32,\"Investor\"],[25,\"Architect\"],[28,\"Please\"],[24,\"Reporter\"]]"
   ]
  },
  {
   "cell_type": "code",
   "execution_count": 16,
   "metadata": {},
   "outputs": [],
   "source": [
    "sitcom_numpy_dizim = np.array(sitcom_listem)\n",
    "#numpy dizisine çevirdim"
   ]
  },
  {
   "cell_type": "code",
   "execution_count": 17,
   "metadata": {},
   "outputs": [],
   "source": [
    "sitcom_data_frame = pd.DataFrame(sitcom_numpy_dizim, index=birlesmis_index, columns=[\"Yas\",\"Meslek\"])"
   ]
  },
  {
   "cell_type": "code",
   "execution_count": 18,
   "metadata": {},
   "outputs": [
    {
     "data": {
      "text/html": [
       "<div>\n",
       "<style scoped>\n",
       "    .dataframe tbody tr th:only-of-type {\n",
       "        vertical-align: middle;\n",
       "    }\n",
       "\n",
       "    .dataframe tbody tr th {\n",
       "        vertical-align: top;\n",
       "    }\n",
       "\n",
       "    .dataframe thead th {\n",
       "        text-align: right;\n",
       "    }\n",
       "</style>\n",
       "<table border=\"1\" class=\"dataframe\">\n",
       "  <thead>\n",
       "    <tr style=\"text-align: right;\">\n",
       "      <th></th>\n",
       "      <th></th>\n",
       "      <th>Yas</th>\n",
       "      <th>Meslek</th>\n",
       "    </tr>\n",
       "  </thead>\n",
       "  <tbody>\n",
       "    <tr>\n",
       "      <th rowspan=\"3\" valign=\"top\">Parks and Recs</th>\n",
       "      <th>Leslie</th>\n",
       "      <td>35</td>\n",
       "      <td>Counselwoman</td>\n",
       "    </tr>\n",
       "    <tr>\n",
       "      <th>Ron</th>\n",
       "      <td>47</td>\n",
       "      <td>Director</td>\n",
       "    </tr>\n",
       "    <tr>\n",
       "      <th>Tom</th>\n",
       "      <td>32</td>\n",
       "      <td>Investor</td>\n",
       "    </tr>\n",
       "    <tr>\n",
       "      <th rowspan=\"3\" valign=\"top\">HIMYM</th>\n",
       "      <th>Ted</th>\n",
       "      <td>25</td>\n",
       "      <td>Architect</td>\n",
       "    </tr>\n",
       "    <tr>\n",
       "      <th>Barney</th>\n",
       "      <td>28</td>\n",
       "      <td>Please</td>\n",
       "    </tr>\n",
       "    <tr>\n",
       "      <th>Robin</th>\n",
       "      <td>24</td>\n",
       "      <td>Reporter</td>\n",
       "    </tr>\n",
       "  </tbody>\n",
       "</table>\n",
       "</div>"
      ],
      "text/plain": [
       "                      Yas        Meslek\n",
       "Parks and Recs Leslie  35  Counselwoman\n",
       "               Ron     47      Director\n",
       "               Tom     32      Investor\n",
       "HIMYM          Ted     25     Architect\n",
       "               Barney  28        Please\n",
       "               Robin   24      Reporter"
      ]
     },
     "execution_count": 18,
     "metadata": {},
     "output_type": "execute_result"
    }
   ],
   "source": [
    "sitcom_data_frame"
   ]
  },
  {
   "cell_type": "code",
   "execution_count": 20,
   "metadata": {},
   "outputs": [
    {
     "data": {
      "text/html": [
       "<div>\n",
       "<style scoped>\n",
       "    .dataframe tbody tr th:only-of-type {\n",
       "        vertical-align: middle;\n",
       "    }\n",
       "\n",
       "    .dataframe tbody tr th {\n",
       "        vertical-align: top;\n",
       "    }\n",
       "\n",
       "    .dataframe thead th {\n",
       "        text-align: right;\n",
       "    }\n",
       "</style>\n",
       "<table border=\"1\" class=\"dataframe\">\n",
       "  <thead>\n",
       "    <tr style=\"text-align: right;\">\n",
       "      <th></th>\n",
       "      <th>Yas</th>\n",
       "      <th>Meslek</th>\n",
       "    </tr>\n",
       "  </thead>\n",
       "  <tbody>\n",
       "    <tr>\n",
       "      <th>Ted</th>\n",
       "      <td>25</td>\n",
       "      <td>Architect</td>\n",
       "    </tr>\n",
       "    <tr>\n",
       "      <th>Barney</th>\n",
       "      <td>28</td>\n",
       "      <td>Please</td>\n",
       "    </tr>\n",
       "    <tr>\n",
       "      <th>Robin</th>\n",
       "      <td>24</td>\n",
       "      <td>Reporter</td>\n",
       "    </tr>\n",
       "  </tbody>\n",
       "</table>\n",
       "</div>"
      ],
      "text/plain": [
       "       Yas     Meslek\n",
       "Ted     25  Architect\n",
       "Barney  28     Please\n",
       "Robin   24   Reporter"
      ]
     },
     "execution_count": 20,
     "metadata": {},
     "output_type": "execute_result"
    }
   ],
   "source": [
    "sitcom_data_frame.loc[\"HIMYM\"]"
   ]
  },
  {
   "cell_type": "code",
   "execution_count": 21,
   "metadata": {},
   "outputs": [
    {
     "data": {
      "text/plain": [
       "Yas              25\n",
       "Meslek    Architect\n",
       "Name: Ted, dtype: object"
      ]
     },
     "execution_count": 21,
     "metadata": {},
     "output_type": "execute_result"
    }
   ],
   "source": [
    "sitcom_data_frame.loc[\"HIMYM\"].loc[\"Ted\"]"
   ]
  },
  {
   "cell_type": "code",
   "execution_count": 25,
   "metadata": {},
   "outputs": [],
   "source": [
    "sitcom_data_frame.index.names = [\"Dizi Adı\",\"Karakter\"]\n",
    "#indexlere isim verdim"
   ]
  },
  {
   "cell_type": "code",
   "execution_count": 26,
   "metadata": {},
   "outputs": [
    {
     "data": {
      "text/html": [
       "<div>\n",
       "<style scoped>\n",
       "    .dataframe tbody tr th:only-of-type {\n",
       "        vertical-align: middle;\n",
       "    }\n",
       "\n",
       "    .dataframe tbody tr th {\n",
       "        vertical-align: top;\n",
       "    }\n",
       "\n",
       "    .dataframe thead th {\n",
       "        text-align: right;\n",
       "    }\n",
       "</style>\n",
       "<table border=\"1\" class=\"dataframe\">\n",
       "  <thead>\n",
       "    <tr style=\"text-align: right;\">\n",
       "      <th></th>\n",
       "      <th></th>\n",
       "      <th>Yas</th>\n",
       "      <th>Meslek</th>\n",
       "    </tr>\n",
       "    <tr>\n",
       "      <th>Dizi Adı</th>\n",
       "      <th>Karakter</th>\n",
       "      <th></th>\n",
       "      <th></th>\n",
       "    </tr>\n",
       "  </thead>\n",
       "  <tbody>\n",
       "    <tr>\n",
       "      <th rowspan=\"3\" valign=\"top\">Parks and Recs</th>\n",
       "      <th>Leslie</th>\n",
       "      <td>35</td>\n",
       "      <td>Counselwoman</td>\n",
       "    </tr>\n",
       "    <tr>\n",
       "      <th>Ron</th>\n",
       "      <td>47</td>\n",
       "      <td>Director</td>\n",
       "    </tr>\n",
       "    <tr>\n",
       "      <th>Tom</th>\n",
       "      <td>32</td>\n",
       "      <td>Investor</td>\n",
       "    </tr>\n",
       "    <tr>\n",
       "      <th rowspan=\"3\" valign=\"top\">HIMYM</th>\n",
       "      <th>Ted</th>\n",
       "      <td>25</td>\n",
       "      <td>Architect</td>\n",
       "    </tr>\n",
       "    <tr>\n",
       "      <th>Barney</th>\n",
       "      <td>28</td>\n",
       "      <td>Please</td>\n",
       "    </tr>\n",
       "    <tr>\n",
       "      <th>Robin</th>\n",
       "      <td>24</td>\n",
       "      <td>Reporter</td>\n",
       "    </tr>\n",
       "  </tbody>\n",
       "</table>\n",
       "</div>"
      ],
      "text/plain": [
       "                        Yas        Meslek\n",
       "Dizi Adı       Karakter                  \n",
       "Parks and Recs Leslie    35  Counselwoman\n",
       "               Ron       47      Director\n",
       "               Tom       32      Investor\n",
       "HIMYM          Ted       25     Architect\n",
       "               Barney    28        Please\n",
       "               Robin     24      Reporter"
      ]
     },
     "execution_count": 26,
     "metadata": {},
     "output_type": "execute_result"
    }
   ],
   "source": [
    "sitcom_data_frame"
   ]
  },
  {
   "cell_type": "code",
   "execution_count": null,
   "metadata": {},
   "outputs": [],
   "source": []
  }
 ],
 "metadata": {
  "kernelspec": {
   "display_name": "Python 3",
   "language": "python",
   "name": "python3"
  },
  "language_info": {
   "codemirror_mode": {
    "name": "ipython",
    "version": 3
   },
   "file_extension": ".py",
   "mimetype": "text/x-python",
   "name": "python",
   "nbconvert_exporter": "python",
   "pygments_lexer": "ipython3",
   "version": "3.8.5"
  }
 },
 "nbformat": 4,
 "nbformat_minor": 4
}
